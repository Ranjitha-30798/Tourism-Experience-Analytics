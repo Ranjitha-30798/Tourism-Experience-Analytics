{
 "cells": [
  {
   "cell_type": "code",
   "execution_count": 109,
   "id": "802720df",
   "metadata": {},
   "outputs": [
    {
     "name": "stdout",
     "output_type": "stream",
     "text": [
      "Defaulting to user installation because normal site-packages is not writeable\n",
      "Requirement already satisfied: pandas in c:\\users\\ranjitha\\appdata\\roaming\\python\\python313\\site-packages (2.2.3)\n",
      "Requirement already satisfied: openpyxl in c:\\users\\ranjitha\\appdata\\roaming\\python\\python313\\site-packages (3.1.5)\n",
      "Requirement already satisfied: numpy>=1.26.0 in c:\\users\\ranjitha\\appdata\\roaming\\python\\python313\\site-packages (from pandas) (2.2.4)\n",
      "Requirement already satisfied: python-dateutil>=2.8.2 in c:\\users\\ranjitha\\appdata\\roaming\\python\\python313\\site-packages (from pandas) (2.9.0.post0)\n",
      "Requirement already satisfied: pytz>=2020.1 in c:\\users\\ranjitha\\appdata\\roaming\\python\\python313\\site-packages (from pandas) (2025.2)\n",
      "Requirement already satisfied: tzdata>=2022.7 in c:\\users\\ranjitha\\appdata\\roaming\\python\\python313\\site-packages (from pandas) (2025.2)\n",
      "Requirement already satisfied: et-xmlfile in c:\\users\\ranjitha\\appdata\\roaming\\python\\python313\\site-packages (from openpyxl) (2.0.0)\n",
      "Requirement already satisfied: six>=1.5 in c:\\users\\ranjitha\\appdata\\roaming\\python\\python313\\site-packages (from python-dateutil>=2.8.2->pandas) (1.17.0)\n"
     ]
    },
    {
     "name": "stderr",
     "output_type": "stream",
     "text": [
      "\n",
      "[notice] A new release of pip is available: 24.3.1 -> 25.1.1\n",
      "[notice] To update, run: python.exe -m pip install --upgrade pip\n"
     ]
    },
    {
     "name": "stdout",
     "output_type": "stream",
     "text": [
      "Defaulting to user installation because normal site-packages is not writeable\n",
      "Requirement already satisfied: pandas in c:\\users\\ranjitha\\appdata\\roaming\\python\\python313\\site-packages (2.2.3)\n",
      "Requirement already satisfied: numpy>=1.26.0 in c:\\users\\ranjitha\\appdata\\roaming\\python\\python313\\site-packages (from pandas) (2.2.4)\n",
      "Requirement already satisfied: python-dateutil>=2.8.2 in c:\\users\\ranjitha\\appdata\\roaming\\python\\python313\\site-packages (from pandas) (2.9.0.post0)\n",
      "Requirement already satisfied: pytz>=2020.1 in c:\\users\\ranjitha\\appdata\\roaming\\python\\python313\\site-packages (from pandas) (2025.2)\n",
      "Requirement already satisfied: tzdata>=2022.7 in c:\\users\\ranjitha\\appdata\\roaming\\python\\python313\\site-packages (from pandas) (2025.2)\n",
      "Requirement already satisfied: six>=1.5 in c:\\users\\ranjitha\\appdata\\roaming\\python\\python313\\site-packages (from python-dateutil>=2.8.2->pandas) (1.17.0)\n"
     ]
    },
    {
     "name": "stderr",
     "output_type": "stream",
     "text": [
      "\n",
      "[notice] A new release of pip is available: 24.3.1 -> 25.1.1\n",
      "[notice] To update, run: python.exe -m pip install --upgrade pip\n"
     ]
    },
    {
     "name": "stdout",
     "output_type": "stream",
     "text": [
      "Defaulting to user installation because normal site-packages is not writeable\n",
      "Requirement already satisfied: matplotlib in c:\\users\\ranjitha\\appdata\\roaming\\python\\python313\\site-packages (3.10.1)\n",
      "Requirement already satisfied: contourpy>=1.0.1 in c:\\users\\ranjitha\\appdata\\roaming\\python\\python313\\site-packages (from matplotlib) (1.3.2)\n",
      "Requirement already satisfied: cycler>=0.10 in c:\\users\\ranjitha\\appdata\\roaming\\python\\python313\\site-packages (from matplotlib) (0.12.1)\n",
      "Requirement already satisfied: fonttools>=4.22.0 in c:\\users\\ranjitha\\appdata\\roaming\\python\\python313\\site-packages (from matplotlib) (4.57.0)\n",
      "Requirement already satisfied: kiwisolver>=1.3.1 in c:\\users\\ranjitha\\appdata\\roaming\\python\\python313\\site-packages (from matplotlib) (1.4.8)\n",
      "Requirement already satisfied: numpy>=1.23 in c:\\users\\ranjitha\\appdata\\roaming\\python\\python313\\site-packages (from matplotlib) (2.2.4)\n",
      "Requirement already satisfied: packaging>=20.0 in c:\\users\\ranjitha\\appdata\\roaming\\python\\python313\\site-packages (from matplotlib) (24.2)\n",
      "Requirement already satisfied: pillow>=8 in c:\\users\\ranjitha\\appdata\\roaming\\python\\python313\\site-packages (from matplotlib) (11.2.1)\n",
      "Requirement already satisfied: pyparsing>=2.3.1 in c:\\users\\ranjitha\\appdata\\roaming\\python\\python313\\site-packages (from matplotlib) (3.2.3)\n",
      "Requirement already satisfied: python-dateutil>=2.7 in c:\\users\\ranjitha\\appdata\\roaming\\python\\python313\\site-packages (from matplotlib) (2.9.0.post0)\n",
      "Requirement already satisfied: six>=1.5 in c:\\users\\ranjitha\\appdata\\roaming\\python\\python313\\site-packages (from python-dateutil>=2.7->matplotlib) (1.17.0)\n"
     ]
    },
    {
     "name": "stderr",
     "output_type": "stream",
     "text": [
      "\n",
      "[notice] A new release of pip is available: 24.3.1 -> 25.1.1\n",
      "[notice] To update, run: python.exe -m pip install --upgrade pip\n"
     ]
    },
    {
     "name": "stdout",
     "output_type": "stream",
     "text": [
      "Defaulting to user installation because normal site-packages is not writeable\n",
      "Requirement already satisfied: seaborn in c:\\users\\ranjitha\\appdata\\roaming\\python\\python313\\site-packages (0.13.2)\n",
      "Requirement already satisfied: numpy!=1.24.0,>=1.20 in c:\\users\\ranjitha\\appdata\\roaming\\python\\python313\\site-packages (from seaborn) (2.2.4)\n",
      "Requirement already satisfied: pandas>=1.2 in c:\\users\\ranjitha\\appdata\\roaming\\python\\python313\\site-packages (from seaborn) (2.2.3)\n",
      "Requirement already satisfied: matplotlib!=3.6.1,>=3.4 in c:\\users\\ranjitha\\appdata\\roaming\\python\\python313\\site-packages (from seaborn) (3.10.1)\n",
      "Requirement already satisfied: contourpy>=1.0.1 in c:\\users\\ranjitha\\appdata\\roaming\\python\\python313\\site-packages (from matplotlib!=3.6.1,>=3.4->seaborn) (1.3.2)\n",
      "Requirement already satisfied: cycler>=0.10 in c:\\users\\ranjitha\\appdata\\roaming\\python\\python313\\site-packages (from matplotlib!=3.6.1,>=3.4->seaborn) (0.12.1)\n",
      "Requirement already satisfied: fonttools>=4.22.0 in c:\\users\\ranjitha\\appdata\\roaming\\python\\python313\\site-packages (from matplotlib!=3.6.1,>=3.4->seaborn) (4.57.0)\n",
      "Requirement already satisfied: kiwisolver>=1.3.1 in c:\\users\\ranjitha\\appdata\\roaming\\python\\python313\\site-packages (from matplotlib!=3.6.1,>=3.4->seaborn) (1.4.8)\n",
      "Requirement already satisfied: packaging>=20.0 in c:\\users\\ranjitha\\appdata\\roaming\\python\\python313\\site-packages (from matplotlib!=3.6.1,>=3.4->seaborn) (24.2)\n",
      "Requirement already satisfied: pillow>=8 in c:\\users\\ranjitha\\appdata\\roaming\\python\\python313\\site-packages (from matplotlib!=3.6.1,>=3.4->seaborn) (11.2.1)\n",
      "Requirement already satisfied: pyparsing>=2.3.1 in c:\\users\\ranjitha\\appdata\\roaming\\python\\python313\\site-packages (from matplotlib!=3.6.1,>=3.4->seaborn) (3.2.3)\n",
      "Requirement already satisfied: python-dateutil>=2.7 in c:\\users\\ranjitha\\appdata\\roaming\\python\\python313\\site-packages (from matplotlib!=3.6.1,>=3.4->seaborn) (2.9.0.post0)\n",
      "Requirement already satisfied: pytz>=2020.1 in c:\\users\\ranjitha\\appdata\\roaming\\python\\python313\\site-packages (from pandas>=1.2->seaborn) (2025.2)\n",
      "Requirement already satisfied: tzdata>=2022.7 in c:\\users\\ranjitha\\appdata\\roaming\\python\\python313\\site-packages (from pandas>=1.2->seaborn) (2025.2)\n",
      "Requirement already satisfied: six>=1.5 in c:\\users\\ranjitha\\appdata\\roaming\\python\\python313\\site-packages (from python-dateutil>=2.7->matplotlib!=3.6.1,>=3.4->seaborn) (1.17.0)\n"
     ]
    },
    {
     "name": "stderr",
     "output_type": "stream",
     "text": [
      "\n",
      "[notice] A new release of pip is available: 24.3.1 -> 25.1.1\n",
      "[notice] To update, run: python.exe -m pip install --upgrade pip\n"
     ]
    }
   ],
   "source": [
    "! pip install pandas openpyxl\n",
    "! pip install pandas\n",
    "! pip install matplotlib\n",
    "! pip install seaborn"
   ]
  },
  {
   "cell_type": "code",
   "execution_count": 110,
   "id": "6e556503",
   "metadata": {},
   "outputs": [],
   "source": [
    "import pandas as pd\n",
    "import numpy as np\n",
    "import requests\n",
    "import csv\n",
    "import seaborn as sns\n",
    "import matplotlib.pyplot as plt\n",
    "import matplotlib.pyplot as plt\n",
    "from sklearn.preprocessing import LabelEncoder, StandardScaler"
   ]
  },
  {
   "cell_type": "code",
   "execution_count": 111,
   "id": "1597b735",
   "metadata": {},
   "outputs": [],
   "source": [
    "from sklearn.model_selection import train_test_split\n",
    "from sklearn.pipeline import Pipeline\n",
    "from sklearn.compose import ColumnTransformer\n",
    "from sklearn.preprocessing import StandardScaler, OneHotEncoder\n",
    "from sklearn.ensemble import RandomForestRegressor\n",
    "from sklearn.metrics import mean_squared_error, r2_score\n",
    "from sklearn.ensemble import RandomForestClassifier\n",
    "from sklearn.metrics import classification_report\n",
    "from sklearn.metrics.pairwise import cosine_similarity\n",
    "from scipy.sparse import csr_matrix\n",
    "from sklearn.feature_extraction.text import TfidfVectorizer\n",
    "from sklearn.metrics.pairwise import linear_kernel\n",
    "from sklearn.metrics import accuracy_score, precision_score, recall_score, f1_score, classification_report\n",
    "from sklearn.metrics import r2_score, mean_squared_error, mean_absolute_error\n"
   ]
  },
  {
   "cell_type": "code",
   "execution_count": 112,
   "id": "f35c802d",
   "metadata": {},
   "outputs": [],
   "source": [
    "# LOAD DATA"
   ]
  },
  {
   "cell_type": "code",
   "execution_count": 146,
   "id": "6829ffb4",
   "metadata": {},
   "outputs": [],
   "source": [
    "df = pd.read_excel(r'C:\\Users\\Ranjitha\\OneDrive\\Documents\\GUVI PROJECTS\\MINI PROJECT4\\Excel_Files\\City.xlsx')\n",
    "df1 = pd.read_excel(r'C:\\Users\\Ranjitha\\OneDrive\\Documents\\GUVI PROJECTS\\MINI PROJECT4\\Excel_Files\\Continent.xlsx')\n",
    "df2 = pd.read_excel(r'C:\\Users\\Ranjitha\\OneDrive\\Documents\\GUVI PROJECTS\\MINI PROJECT4\\Excel_Files\\Country.xlsx')\n",
    "df3 = pd.read_excel(r'C:\\Users\\Ranjitha\\OneDrive\\Documents\\GUVI PROJECTS\\MINI PROJECT4\\Excel_Files\\Item.xlsx')\n",
    "df4 = pd.read_excel(r'C:\\Users\\Ranjitha\\OneDrive\\Documents\\GUVI PROJECTS\\MINI PROJECT4\\Excel_Files\\Mode.xlsx')\n",
    "df5 = pd.read_excel(r'C:\\Users\\Ranjitha\\OneDrive\\Documents\\GUVI PROJECTS\\MINI PROJECT4\\Excel_Files\\Region.xlsx')\n",
    "df6= pd.read_excel(r'C:\\Users\\Ranjitha\\OneDrive\\Documents\\GUVI PROJECTS\\MINI PROJECT4\\Excel_Files\\Transaction.xlsx')\n",
    "df7 = pd.read_excel(r'c:\\Users\\Ranjitha\\OneDrive\\Documents\\GUVI PROJECTS\\MINI PROJECT4\\Excel_Files\\Type.xlsx')\n",
    "df8 = pd.read_excel(r'C:\\Users\\Ranjitha\\OneDrive\\Documents\\GUVI PROJECTS\\MINI PROJECT4\\Excel_Files\\Updated_Item.xlsx')\n",
    "df9 = pd.read_excel(r'C:\\Users\\Ranjitha\\OneDrive\\Documents\\GUVI PROJECTS\\MINI PROJECT4\\Excel_Files\\User.xlsx')"
   ]
  },
  {
   "cell_type": "code",
   "execution_count": 151,
   "id": "ce56f198",
   "metadata": {},
   "outputs": [],
   "source": [
    "# CHECK BASIC INFO"
   ]
  },
  {
   "cell_type": "code",
   "execution_count": 152,
   "id": "52d1b501",
   "metadata": {},
   "outputs": [
    {
     "data": {
      "text/plain": [
       "Index(['CityId', 'CityName', 'CountryId'], dtype='object')"
      ]
     },
     "execution_count": 152,
     "metadata": {},
     "output_type": "execute_result"
    }
   ],
   "source": [
    "df.columns"
   ]
  },
  {
   "cell_type": "code",
   "execution_count": 116,
   "id": "be9eb723",
   "metadata": {},
   "outputs": [
    {
     "data": {
      "text/plain": [
       "Index(['ContinentId', 'Continent'], dtype='object')"
      ]
     },
     "execution_count": 116,
     "metadata": {},
     "output_type": "execute_result"
    }
   ],
   "source": [
    "df1.columns"
   ]
  },
  {
   "cell_type": "code",
   "execution_count": 148,
   "id": "cbcc847b",
   "metadata": {},
   "outputs": [
    {
     "data": {
      "text/plain": [
       "Index(['CountryId', 'Country', 'RegionId'], dtype='object')"
      ]
     },
     "execution_count": 148,
     "metadata": {},
     "output_type": "execute_result"
    }
   ],
   "source": [
    "df2.columns"
   ]
  },
  {
   "cell_type": "code",
   "execution_count": 118,
   "id": "f44f4928",
   "metadata": {},
   "outputs": [
    {
     "data": {
      "text/plain": [
       "Index(['AttractionId', 'AttractionCityId', 'AttractionTypeId', 'Attraction',\n",
       "       'AttractionAddress'],\n",
       "      dtype='object')"
      ]
     },
     "execution_count": 118,
     "metadata": {},
     "output_type": "execute_result"
    }
   ],
   "source": [
    "df3.columns"
   ]
  },
  {
   "cell_type": "code",
   "execution_count": 119,
   "id": "dc075dff",
   "metadata": {},
   "outputs": [
    {
     "data": {
      "text/plain": [
       "Index(['VisitModeId', 'VisitMode'], dtype='object')"
      ]
     },
     "execution_count": 119,
     "metadata": {},
     "output_type": "execute_result"
    }
   ],
   "source": [
    "df4.columns"
   ]
  },
  {
   "cell_type": "code",
   "execution_count": 120,
   "id": "42d5d489",
   "metadata": {},
   "outputs": [
    {
     "data": {
      "text/plain": [
       "Index(['Region', 'RegionId', 'ContinentId'], dtype='object')"
      ]
     },
     "execution_count": 120,
     "metadata": {},
     "output_type": "execute_result"
    }
   ],
   "source": [
    "df5.columns"
   ]
  },
  {
   "cell_type": "code",
   "execution_count": 121,
   "id": "65ccc351",
   "metadata": {},
   "outputs": [
    {
     "data": {
      "text/plain": [
       "Index(['TransactionId', 'UserId', 'VisitYear', 'VisitMonth', 'VisitMode',\n",
       "       'AttractionId', 'Rating'],\n",
       "      dtype='object')"
      ]
     },
     "execution_count": 121,
     "metadata": {},
     "output_type": "execute_result"
    }
   ],
   "source": [
    "df6.columns"
   ]
  },
  {
   "cell_type": "code",
   "execution_count": 122,
   "id": "1a87471d",
   "metadata": {},
   "outputs": [
    {
     "data": {
      "text/plain": [
       "Index(['AttractionTypeId', 'AttractionType'], dtype='object')"
      ]
     },
     "execution_count": 122,
     "metadata": {},
     "output_type": "execute_result"
    }
   ],
   "source": [
    "df7.columns"
   ]
  },
  {
   "cell_type": "code",
   "execution_count": 123,
   "id": "2f38507e",
   "metadata": {},
   "outputs": [
    {
     "data": {
      "text/plain": [
       "Index(['AttractionId', 'AttractionCityId', 'AttractionTypeId', 'Attraction',\n",
       "       'AttractionAddress'],\n",
       "      dtype='object')"
      ]
     },
     "execution_count": 123,
     "metadata": {},
     "output_type": "execute_result"
    }
   ],
   "source": [
    "df8.columns"
   ]
  },
  {
   "cell_type": "code",
   "execution_count": 124,
   "id": "726930d8",
   "metadata": {},
   "outputs": [
    {
     "data": {
      "text/plain": [
       "Index(['UserId', 'ContinentId', 'RegionId', 'CountryId', 'CityId'], dtype='object')"
      ]
     },
     "execution_count": 124,
     "metadata": {},
     "output_type": "execute_result"
    }
   ],
   "source": [
    "df9.columns"
   ]
  },
  {
   "cell_type": "code",
   "execution_count": 125,
   "id": "f4f0d856",
   "metadata": {},
   "outputs": [
    {
     "data": {
      "text/html": [
       "<div>\n",
       "<style scoped>\n",
       "    .dataframe tbody tr th:only-of-type {\n",
       "        vertical-align: middle;\n",
       "    }\n",
       "\n",
       "    .dataframe tbody tr th {\n",
       "        vertical-align: top;\n",
       "    }\n",
       "\n",
       "    .dataframe thead th {\n",
       "        text-align: right;\n",
       "    }\n",
       "</style>\n",
       "<table border=\"1\" class=\"dataframe\">\n",
       "  <thead>\n",
       "    <tr style=\"text-align: right;\">\n",
       "      <th></th>\n",
       "      <th>CityId</th>\n",
       "      <th>CityName</th>\n",
       "      <th>CountryId</th>\n",
       "    </tr>\n",
       "  </thead>\n",
       "  <tbody>\n",
       "    <tr>\n",
       "      <th>0</th>\n",
       "      <td>0</td>\n",
       "      <td>-</td>\n",
       "      <td>0</td>\n",
       "    </tr>\n",
       "    <tr>\n",
       "      <th>1</th>\n",
       "      <td>1</td>\n",
       "      <td>Douala</td>\n",
       "      <td>1</td>\n",
       "    </tr>\n",
       "  </tbody>\n",
       "</table>\n",
       "</div>"
      ],
      "text/plain": [
       "   CityId CityName  CountryId\n",
       "0       0        -          0\n",
       "1       1   Douala          1"
      ]
     },
     "execution_count": 125,
     "metadata": {},
     "output_type": "execute_result"
    }
   ],
   "source": [
    "df.head(2)"
   ]
  },
  {
   "cell_type": "code",
   "execution_count": 126,
   "id": "01ac39b9",
   "metadata": {},
   "outputs": [
    {
     "data": {
      "text/html": [
       "<div>\n",
       "<style scoped>\n",
       "    .dataframe tbody tr th:only-of-type {\n",
       "        vertical-align: middle;\n",
       "    }\n",
       "\n",
       "    .dataframe tbody tr th {\n",
       "        vertical-align: top;\n",
       "    }\n",
       "\n",
       "    .dataframe thead th {\n",
       "        text-align: right;\n",
       "    }\n",
       "</style>\n",
       "<table border=\"1\" class=\"dataframe\">\n",
       "  <thead>\n",
       "    <tr style=\"text-align: right;\">\n",
       "      <th></th>\n",
       "      <th>ContinentId</th>\n",
       "      <th>Continent</th>\n",
       "    </tr>\n",
       "  </thead>\n",
       "  <tbody>\n",
       "    <tr>\n",
       "      <th>0</th>\n",
       "      <td>0</td>\n",
       "      <td>-</td>\n",
       "    </tr>\n",
       "    <tr>\n",
       "      <th>1</th>\n",
       "      <td>1</td>\n",
       "      <td>Africa</td>\n",
       "    </tr>\n",
       "  </tbody>\n",
       "</table>\n",
       "</div>"
      ],
      "text/plain": [
       "   ContinentId Continent\n",
       "0            0         -\n",
       "1            1    Africa"
      ]
     },
     "execution_count": 126,
     "metadata": {},
     "output_type": "execute_result"
    }
   ],
   "source": [
    "df1.head(2)"
   ]
  },
  {
   "cell_type": "code",
   "execution_count": 127,
   "id": "49b8701a",
   "metadata": {},
   "outputs": [
    {
     "data": {
      "text/html": [
       "<div>\n",
       "<style scoped>\n",
       "    .dataframe tbody tr th:only-of-type {\n",
       "        vertical-align: middle;\n",
       "    }\n",
       "\n",
       "    .dataframe tbody tr th {\n",
       "        vertical-align: top;\n",
       "    }\n",
       "\n",
       "    .dataframe thead th {\n",
       "        text-align: right;\n",
       "    }\n",
       "</style>\n",
       "<table border=\"1\" class=\"dataframe\">\n",
       "  <thead>\n",
       "    <tr style=\"text-align: right;\">\n",
       "      <th></th>\n",
       "      <th>CountryId</th>\n",
       "      <th>Country</th>\n",
       "      <th>RegionId</th>\n",
       "    </tr>\n",
       "  </thead>\n",
       "  <tbody>\n",
       "    <tr>\n",
       "      <th>0</th>\n",
       "      <td>0</td>\n",
       "      <td>-</td>\n",
       "      <td>0</td>\n",
       "    </tr>\n",
       "    <tr>\n",
       "      <th>1</th>\n",
       "      <td>1</td>\n",
       "      <td>Cameroon</td>\n",
       "      <td>1</td>\n",
       "    </tr>\n",
       "  </tbody>\n",
       "</table>\n",
       "</div>"
      ],
      "text/plain": [
       "   CountryId   Country  RegionId\n",
       "0          0         -         0\n",
       "1          1  Cameroon         1"
      ]
     },
     "execution_count": 127,
     "metadata": {},
     "output_type": "execute_result"
    }
   ],
   "source": [
    "df2.head(2)"
   ]
  },
  {
   "cell_type": "code",
   "execution_count": 128,
   "id": "c06cd4f3",
   "metadata": {},
   "outputs": [
    {
     "data": {
      "text/html": [
       "<div>\n",
       "<style scoped>\n",
       "    .dataframe tbody tr th:only-of-type {\n",
       "        vertical-align: middle;\n",
       "    }\n",
       "\n",
       "    .dataframe tbody tr th {\n",
       "        vertical-align: top;\n",
       "    }\n",
       "\n",
       "    .dataframe thead th {\n",
       "        text-align: right;\n",
       "    }\n",
       "</style>\n",
       "<table border=\"1\" class=\"dataframe\">\n",
       "  <thead>\n",
       "    <tr style=\"text-align: right;\">\n",
       "      <th></th>\n",
       "      <th>AttractionId</th>\n",
       "      <th>AttractionCityId</th>\n",
       "      <th>AttractionTypeId</th>\n",
       "      <th>Attraction</th>\n",
       "      <th>AttractionAddress</th>\n",
       "    </tr>\n",
       "  </thead>\n",
       "  <tbody>\n",
       "    <tr>\n",
       "      <th>0</th>\n",
       "      <td>369</td>\n",
       "      <td>1</td>\n",
       "      <td>13</td>\n",
       "      <td>Kuta Beach - Bali</td>\n",
       "      <td>Kuta</td>\n",
       "    </tr>\n",
       "    <tr>\n",
       "      <th>1</th>\n",
       "      <td>481</td>\n",
       "      <td>1</td>\n",
       "      <td>13</td>\n",
       "      <td>Nusa Dua Beach</td>\n",
       "      <td>Semenanjung Nusa Dua, Nusa Dua 80517 Indonesia</td>\n",
       "    </tr>\n",
       "  </tbody>\n",
       "</table>\n",
       "</div>"
      ],
      "text/plain": [
       "   AttractionId  AttractionCityId  AttractionTypeId         Attraction  \\\n",
       "0           369                 1                13  Kuta Beach - Bali   \n",
       "1           481                 1                13     Nusa Dua Beach   \n",
       "\n",
       "                                AttractionAddress  \n",
       "0                                            Kuta  \n",
       "1  Semenanjung Nusa Dua, Nusa Dua 80517 Indonesia  "
      ]
     },
     "execution_count": 128,
     "metadata": {},
     "output_type": "execute_result"
    }
   ],
   "source": [
    "df3.head(2)"
   ]
  },
  {
   "cell_type": "code",
   "execution_count": 129,
   "id": "18d42c19",
   "metadata": {},
   "outputs": [
    {
     "data": {
      "text/html": [
       "<div>\n",
       "<style scoped>\n",
       "    .dataframe tbody tr th:only-of-type {\n",
       "        vertical-align: middle;\n",
       "    }\n",
       "\n",
       "    .dataframe tbody tr th {\n",
       "        vertical-align: top;\n",
       "    }\n",
       "\n",
       "    .dataframe thead th {\n",
       "        text-align: right;\n",
       "    }\n",
       "</style>\n",
       "<table border=\"1\" class=\"dataframe\">\n",
       "  <thead>\n",
       "    <tr style=\"text-align: right;\">\n",
       "      <th></th>\n",
       "      <th>VisitModeId</th>\n",
       "      <th>VisitMode</th>\n",
       "    </tr>\n",
       "  </thead>\n",
       "  <tbody>\n",
       "    <tr>\n",
       "      <th>0</th>\n",
       "      <td>0</td>\n",
       "      <td>-</td>\n",
       "    </tr>\n",
       "    <tr>\n",
       "      <th>1</th>\n",
       "      <td>1</td>\n",
       "      <td>Business</td>\n",
       "    </tr>\n",
       "  </tbody>\n",
       "</table>\n",
       "</div>"
      ],
      "text/plain": [
       "   VisitModeId VisitMode\n",
       "0            0         -\n",
       "1            1  Business"
      ]
     },
     "execution_count": 129,
     "metadata": {},
     "output_type": "execute_result"
    }
   ],
   "source": [
    "df4.head(2)"
   ]
  },
  {
   "cell_type": "code",
   "execution_count": 130,
   "id": "fe33c9fc",
   "metadata": {},
   "outputs": [
    {
     "data": {
      "text/html": [
       "<div>\n",
       "<style scoped>\n",
       "    .dataframe tbody tr th:only-of-type {\n",
       "        vertical-align: middle;\n",
       "    }\n",
       "\n",
       "    .dataframe tbody tr th {\n",
       "        vertical-align: top;\n",
       "    }\n",
       "\n",
       "    .dataframe thead th {\n",
       "        text-align: right;\n",
       "    }\n",
       "</style>\n",
       "<table border=\"1\" class=\"dataframe\">\n",
       "  <thead>\n",
       "    <tr style=\"text-align: right;\">\n",
       "      <th></th>\n",
       "      <th>Region</th>\n",
       "      <th>RegionId</th>\n",
       "      <th>ContinentId</th>\n",
       "    </tr>\n",
       "  </thead>\n",
       "  <tbody>\n",
       "    <tr>\n",
       "      <th>0</th>\n",
       "      <td>-</td>\n",
       "      <td>0</td>\n",
       "      <td>0</td>\n",
       "    </tr>\n",
       "    <tr>\n",
       "      <th>1</th>\n",
       "      <td>Central Africa</td>\n",
       "      <td>1</td>\n",
       "      <td>1</td>\n",
       "    </tr>\n",
       "  </tbody>\n",
       "</table>\n",
       "</div>"
      ],
      "text/plain": [
       "           Region  RegionId  ContinentId\n",
       "0               -         0            0\n",
       "1  Central Africa         1            1"
      ]
     },
     "execution_count": 130,
     "metadata": {},
     "output_type": "execute_result"
    }
   ],
   "source": [
    "df5.head(2)"
   ]
  },
  {
   "cell_type": "code",
   "execution_count": 131,
   "id": "481b2fdd",
   "metadata": {},
   "outputs": [
    {
     "data": {
      "text/html": [
       "<div>\n",
       "<style scoped>\n",
       "    .dataframe tbody tr th:only-of-type {\n",
       "        vertical-align: middle;\n",
       "    }\n",
       "\n",
       "    .dataframe tbody tr th {\n",
       "        vertical-align: top;\n",
       "    }\n",
       "\n",
       "    .dataframe thead th {\n",
       "        text-align: right;\n",
       "    }\n",
       "</style>\n",
       "<table border=\"1\" class=\"dataframe\">\n",
       "  <thead>\n",
       "    <tr style=\"text-align: right;\">\n",
       "      <th></th>\n",
       "      <th>TransactionId</th>\n",
       "      <th>UserId</th>\n",
       "      <th>VisitYear</th>\n",
       "      <th>VisitMonth</th>\n",
       "      <th>VisitMode</th>\n",
       "      <th>AttractionId</th>\n",
       "      <th>Rating</th>\n",
       "    </tr>\n",
       "  </thead>\n",
       "  <tbody>\n",
       "    <tr>\n",
       "      <th>0</th>\n",
       "      <td>3</td>\n",
       "      <td>70456</td>\n",
       "      <td>2022</td>\n",
       "      <td>10</td>\n",
       "      <td>2</td>\n",
       "      <td>640</td>\n",
       "      <td>5</td>\n",
       "    </tr>\n",
       "    <tr>\n",
       "      <th>1</th>\n",
       "      <td>8</td>\n",
       "      <td>7567</td>\n",
       "      <td>2022</td>\n",
       "      <td>10</td>\n",
       "      <td>4</td>\n",
       "      <td>640</td>\n",
       "      <td>5</td>\n",
       "    </tr>\n",
       "  </tbody>\n",
       "</table>\n",
       "</div>"
      ],
      "text/plain": [
       "   TransactionId  UserId  VisitYear  VisitMonth  VisitMode  AttractionId  \\\n",
       "0              3   70456       2022          10          2           640   \n",
       "1              8    7567       2022          10          4           640   \n",
       "\n",
       "   Rating  \n",
       "0       5  \n",
       "1       5  "
      ]
     },
     "execution_count": 131,
     "metadata": {},
     "output_type": "execute_result"
    }
   ],
   "source": [
    "df6.head(2)"
   ]
  },
  {
   "cell_type": "code",
   "execution_count": 132,
   "id": "e6642267",
   "metadata": {},
   "outputs": [
    {
     "data": {
      "text/html": [
       "<div>\n",
       "<style scoped>\n",
       "    .dataframe tbody tr th:only-of-type {\n",
       "        vertical-align: middle;\n",
       "    }\n",
       "\n",
       "    .dataframe tbody tr th {\n",
       "        vertical-align: top;\n",
       "    }\n",
       "\n",
       "    .dataframe thead th {\n",
       "        text-align: right;\n",
       "    }\n",
       "</style>\n",
       "<table border=\"1\" class=\"dataframe\">\n",
       "  <thead>\n",
       "    <tr style=\"text-align: right;\">\n",
       "      <th></th>\n",
       "      <th>AttractionTypeId</th>\n",
       "      <th>AttractionType</th>\n",
       "    </tr>\n",
       "  </thead>\n",
       "  <tbody>\n",
       "    <tr>\n",
       "      <th>0</th>\n",
       "      <td>2</td>\n",
       "      <td>Ancient Ruins</td>\n",
       "    </tr>\n",
       "    <tr>\n",
       "      <th>1</th>\n",
       "      <td>10</td>\n",
       "      <td>Ballets</td>\n",
       "    </tr>\n",
       "  </tbody>\n",
       "</table>\n",
       "</div>"
      ],
      "text/plain": [
       "   AttractionTypeId AttractionType\n",
       "0                 2  Ancient Ruins\n",
       "1                10        Ballets"
      ]
     },
     "execution_count": 132,
     "metadata": {},
     "output_type": "execute_result"
    }
   ],
   "source": [
    "df7.head(2)"
   ]
  },
  {
   "cell_type": "code",
   "execution_count": 133,
   "id": "667e8954",
   "metadata": {},
   "outputs": [
    {
     "data": {
      "text/html": [
       "<div>\n",
       "<style scoped>\n",
       "    .dataframe tbody tr th:only-of-type {\n",
       "        vertical-align: middle;\n",
       "    }\n",
       "\n",
       "    .dataframe tbody tr th {\n",
       "        vertical-align: top;\n",
       "    }\n",
       "\n",
       "    .dataframe thead th {\n",
       "        text-align: right;\n",
       "    }\n",
       "</style>\n",
       "<table border=\"1\" class=\"dataframe\">\n",
       "  <thead>\n",
       "    <tr style=\"text-align: right;\">\n",
       "      <th></th>\n",
       "      <th>AttractionId</th>\n",
       "      <th>AttractionCityId</th>\n",
       "      <th>AttractionTypeId</th>\n",
       "      <th>Attraction</th>\n",
       "      <th>AttractionAddress</th>\n",
       "    </tr>\n",
       "  </thead>\n",
       "  <tbody>\n",
       "    <tr>\n",
       "      <th>0</th>\n",
       "      <td>369</td>\n",
       "      <td>1</td>\n",
       "      <td>13</td>\n",
       "      <td>Kuta Beach - Bali</td>\n",
       "      <td>Kuta</td>\n",
       "    </tr>\n",
       "    <tr>\n",
       "      <th>1</th>\n",
       "      <td>481</td>\n",
       "      <td>1</td>\n",
       "      <td>13</td>\n",
       "      <td>Nusa Dua Beach</td>\n",
       "      <td>Semenanjung Nusa Dua, Nusa Dua 80517 Indonesia</td>\n",
       "    </tr>\n",
       "  </tbody>\n",
       "</table>\n",
       "</div>"
      ],
      "text/plain": [
       "   AttractionId  AttractionCityId AttractionTypeId         Attraction  \\\n",
       "0           369                 1               13  Kuta Beach - Bali   \n",
       "1           481                 1               13     Nusa Dua Beach   \n",
       "\n",
       "                                AttractionAddress  \n",
       "0                                            Kuta  \n",
       "1  Semenanjung Nusa Dua, Nusa Dua 80517 Indonesia  "
      ]
     },
     "execution_count": 133,
     "metadata": {},
     "output_type": "execute_result"
    }
   ],
   "source": [
    "df8.head(2)"
   ]
  },
  {
   "cell_type": "code",
   "execution_count": 134,
   "id": "308c38d6",
   "metadata": {},
   "outputs": [
    {
     "data": {
      "text/html": [
       "<div>\n",
       "<style scoped>\n",
       "    .dataframe tbody tr th:only-of-type {\n",
       "        vertical-align: middle;\n",
       "    }\n",
       "\n",
       "    .dataframe tbody tr th {\n",
       "        vertical-align: top;\n",
       "    }\n",
       "\n",
       "    .dataframe thead th {\n",
       "        text-align: right;\n",
       "    }\n",
       "</style>\n",
       "<table border=\"1\" class=\"dataframe\">\n",
       "  <thead>\n",
       "    <tr style=\"text-align: right;\">\n",
       "      <th></th>\n",
       "      <th>UserId</th>\n",
       "      <th>ContinentId</th>\n",
       "      <th>RegionId</th>\n",
       "      <th>CountryId</th>\n",
       "      <th>CityId</th>\n",
       "    </tr>\n",
       "  </thead>\n",
       "  <tbody>\n",
       "    <tr>\n",
       "      <th>0</th>\n",
       "      <td>14</td>\n",
       "      <td>5</td>\n",
       "      <td>20</td>\n",
       "      <td>155</td>\n",
       "      <td>220.0</td>\n",
       "    </tr>\n",
       "    <tr>\n",
       "      <th>1</th>\n",
       "      <td>16</td>\n",
       "      <td>3</td>\n",
       "      <td>14</td>\n",
       "      <td>101</td>\n",
       "      <td>3098.0</td>\n",
       "    </tr>\n",
       "  </tbody>\n",
       "</table>\n",
       "</div>"
      ],
      "text/plain": [
       "   UserId  ContinentId  RegionId  CountryId  CityId\n",
       "0      14            5        20        155   220.0\n",
       "1      16            3        14        101  3098.0"
      ]
     },
     "execution_count": 134,
     "metadata": {},
     "output_type": "execute_result"
    }
   ],
   "source": [
    "df9.head(2)"
   ]
  },
  {
   "cell_type": "code",
   "execution_count": 135,
   "id": "79b4338b",
   "metadata": {},
   "outputs": [],
   "source": [
    "# CONCAT THE COLUMNS"
   ]
  },
  {
   "cell_type": "code",
   "execution_count": 167,
   "id": "9df354b4",
   "metadata": {},
   "outputs": [
    {
     "name": "stdout",
     "output_type": "stream",
     "text": [
      "Index(['CityId', 'CityName', 'CountryId', 'ContinentId', 'Continent',\n",
      "       'CountryId', 'Country', 'RegionId', 'AttractionId', 'AttractionCityId',\n",
      "       'AttractionTypeId', 'Attraction', 'AttractionAddress', 'VisitModeId',\n",
      "       'VisitMode', 'Region', 'RegionId', 'ContinentId', 'TransactionId',\n",
      "       'UserId', 'VisitYear', 'VisitMonth', 'VisitMode', 'AttractionId',\n",
      "       'Rating', 'AttractionTypeId', 'AttractionType', 'AttractionId',\n",
      "       'AttractionCityId', 'AttractionTypeId', 'Attraction',\n",
      "       'AttractionAddress', 'UserId', 'ContinentId', 'RegionId', 'CountryId',\n",
      "       'CityId'],\n",
      "      dtype='object')\n"
     ]
    }
   ],
   "source": [
    "combined_df = pd.concat([df, df1, df2, df3, df4, df5, df6, df7, df8, df9], axis=1)\n",
    "print(combined_df.columns)\n"
   ]
  },
  {
   "cell_type": "code",
   "execution_count": null,
   "id": "0c80f4da",
   "metadata": {},
   "outputs": [
    {
     "name": "stderr",
     "output_type": "stream",
     "text": [
      "C:\\Users\\Ranjitha\\AppData\\Local\\Temp\\ipykernel_3824\\2504411173.py:22: FutureWarning: Downcasting object dtype arrays on .fillna, .ffill, .bfill is deprecated and will change in a future version. Call result.infer_objects(copy=False) instead. To opt-in to the future behavior, set `pd.set_option('future.no_silent_downcasting', True)`\n",
      "  combined_df[new_col] = combined_df[dup_cols].bfill(axis=1).iloc[:, 0]\n",
      "C:\\Users\\Ranjitha\\AppData\\Local\\Temp\\ipykernel_3824\\2504411173.py:22: FutureWarning: Downcasting object dtype arrays on .fillna, .ffill, .bfill is deprecated and will change in a future version. Call result.infer_objects(copy=False) instead. To opt-in to the future behavior, set `pd.set_option('future.no_silent_downcasting', True)`\n",
      "  combined_df[new_col] = combined_df[dup_cols].bfill(axis=1).iloc[:, 0]\n",
      "C:\\Users\\Ranjitha\\AppData\\Local\\Temp\\ipykernel_3824\\2504411173.py:22: FutureWarning: Downcasting object dtype arrays on .fillna, .ffill, .bfill is deprecated and will change in a future version. Call result.infer_objects(copy=False) instead. To opt-in to the future behavior, set `pd.set_option('future.no_silent_downcasting', True)`\n",
      "  combined_df[new_col] = combined_df[dup_cols].bfill(axis=1).iloc[:, 0]\n",
      "C:\\Users\\Ranjitha\\AppData\\Local\\Temp\\ipykernel_3824\\2504411173.py:22: FutureWarning: Downcasting object dtype arrays on .fillna, .ffill, .bfill is deprecated and will change in a future version. Call result.infer_objects(copy=False) instead. To opt-in to the future behavior, set `pd.set_option('future.no_silent_downcasting', True)`\n",
      "  combined_df[new_col] = combined_df[dup_cols].bfill(axis=1).iloc[:, 0]\n"
     ]
    }
   ],
   "source": [
    "# Merge duplicates\n",
    "duplicate_groups = {\n",
    "    \"CityId\": ['CityId', 'CityId.1'],\n",
    "    \"CountryId\": ['CountryId', 'CountryId.1', 'CountryId.2'],\n",
    "    \"ContinentId\": ['ContinentId', 'ContinentId.1', 'ContinentId.2'],\n",
    "    \"RegionId\": ['RegionId', 'RegionId.1', 'RegionId.2'],\n",
    "    \"AttractionId\": ['AttractionId', 'AttractionId.1', 'AttractionId.2'],\n",
    "    \"AttractionTypeId\": ['AttractionTypeId', 'AttractionTypeId.1', 'AttractionTypeId.2'],\n",
    "    \"Attraction\": ['Attraction', 'Attraction.1', 'Attraction.2'],\n",
    "    \"AttractionAddress\": ['AttractionAddress', 'AttractionAddress.1', 'AttractionAddress.2'],\n",
    "    \"UserId\": ['UserId', 'UserId.1'],\n",
    "    \"VisitMode\": ['VisitMode', 'VisitMode.1'],\n",
    "}\n",
    "\n",
    "\n",
    "for new_col, dup_cols in duplicate_groups.items():\n",
    "    dup_cols = [col for col in dup_cols if col in combined_df.columns]\n",
    "    if dup_cols:\n",
    "        combined_df[new_col] = combined_df[dup_cols].bfill(axis=1).iloc[:, 0]\n",
    "\n",
    "\n",
    "all_dup_cols = [col for group in duplicate_groups.values() for col in group if col in combined_df.columns]\n",
    "final_columns = list(set(combined_df.columns) - set(all_dup_cols)) + list(duplicate_groups.keys())\n",
    "combined_df = combined_df[final_columns]\n",
    "\n",
    "combined_df = combined_df.loc[:, ~combined_df.columns.duplicated()]\n"
   ]
  },
  {
   "cell_type": "code",
   "execution_count": 169,
   "id": "ccda4ee9",
   "metadata": {},
   "outputs": [
    {
     "data": {
      "text/plain": [
       "Index(['Continent', 'AttractionCityId', 'VisitModeId', 'Region',\n",
       "       'TransactionId', 'VisitMonth', 'Country', 'CityName', 'Rating',\n",
       "       'VisitYear', 'AttractionType', 'CityId', 'CountryId', 'ContinentId',\n",
       "       'RegionId', 'AttractionId', 'AttractionTypeId', 'Attraction',\n",
       "       'AttractionAddress', 'UserId', 'VisitMode'],\n",
       "      dtype='object')"
      ]
     },
     "execution_count": 169,
     "metadata": {},
     "output_type": "execute_result"
    }
   ],
   "source": [
    "combined_df.columns"
   ]
  },
  {
   "cell_type": "code",
   "execution_count": 170,
   "id": "4fda322c",
   "metadata": {},
   "outputs": [
    {
     "data": {
      "text/html": [
       "<div>\n",
       "<style scoped>\n",
       "    .dataframe tbody tr th:only-of-type {\n",
       "        vertical-align: middle;\n",
       "    }\n",
       "\n",
       "    .dataframe tbody tr th {\n",
       "        vertical-align: top;\n",
       "    }\n",
       "\n",
       "    .dataframe thead th {\n",
       "        text-align: right;\n",
       "    }\n",
       "</style>\n",
       "<table border=\"1\" class=\"dataframe\">\n",
       "  <thead>\n",
       "    <tr style=\"text-align: right;\">\n",
       "      <th></th>\n",
       "      <th>Continent</th>\n",
       "      <th>AttractionCityId</th>\n",
       "      <th>VisitModeId</th>\n",
       "      <th>Region</th>\n",
       "      <th>TransactionId</th>\n",
       "      <th>VisitMonth</th>\n",
       "      <th>Country</th>\n",
       "      <th>CityName</th>\n",
       "      <th>Rating</th>\n",
       "      <th>VisitYear</th>\n",
       "      <th>...</th>\n",
       "      <th>CityId</th>\n",
       "      <th>CountryId</th>\n",
       "      <th>ContinentId</th>\n",
       "      <th>RegionId</th>\n",
       "      <th>AttractionId</th>\n",
       "      <th>AttractionTypeId</th>\n",
       "      <th>Attraction</th>\n",
       "      <th>AttractionAddress</th>\n",
       "      <th>UserId</th>\n",
       "      <th>VisitMode</th>\n",
       "    </tr>\n",
       "  </thead>\n",
       "  <tbody>\n",
       "    <tr>\n",
       "      <th>0</th>\n",
       "      <td>-</td>\n",
       "      <td>1.0</td>\n",
       "      <td>0.0</td>\n",
       "      <td>-</td>\n",
       "      <td>3</td>\n",
       "      <td>10</td>\n",
       "      <td>-</td>\n",
       "      <td>-</td>\n",
       "      <td>5</td>\n",
       "      <td>2022</td>\n",
       "      <td>...</td>\n",
       "      <td>0.0</td>\n",
       "      <td>0.0</td>\n",
       "      <td>0.0</td>\n",
       "      <td>0.0</td>\n",
       "      <td>369.0</td>\n",
       "      <td>13.0</td>\n",
       "      <td>Kuta Beach - Bali</td>\n",
       "      <td>Kuta</td>\n",
       "      <td>70456.0</td>\n",
       "      <td>-</td>\n",
       "    </tr>\n",
       "    <tr>\n",
       "      <th>1</th>\n",
       "      <td>Africa</td>\n",
       "      <td>1.0</td>\n",
       "      <td>1.0</td>\n",
       "      <td>Central Africa</td>\n",
       "      <td>8</td>\n",
       "      <td>10</td>\n",
       "      <td>Cameroon</td>\n",
       "      <td>Douala</td>\n",
       "      <td>5</td>\n",
       "      <td>2022</td>\n",
       "      <td>...</td>\n",
       "      <td>1.0</td>\n",
       "      <td>1.0</td>\n",
       "      <td>1.0</td>\n",
       "      <td>1.0</td>\n",
       "      <td>481.0</td>\n",
       "      <td>13.0</td>\n",
       "      <td>Nusa Dua Beach</td>\n",
       "      <td>Semenanjung Nusa Dua, Nusa Dua 80517 Indonesia</td>\n",
       "      <td>7567.0</td>\n",
       "      <td>Business</td>\n",
       "    </tr>\n",
       "    <tr>\n",
       "      <th>2</th>\n",
       "      <td>America</td>\n",
       "      <td>1.0</td>\n",
       "      <td>2.0</td>\n",
       "      <td>East Africa</td>\n",
       "      <td>9</td>\n",
       "      <td>10</td>\n",
       "      <td>Chad</td>\n",
       "      <td>South Region</td>\n",
       "      <td>5</td>\n",
       "      <td>2022</td>\n",
       "      <td>...</td>\n",
       "      <td>2.0</td>\n",
       "      <td>1.0</td>\n",
       "      <td>2.0</td>\n",
       "      <td>1.0</td>\n",
       "      <td>640.0</td>\n",
       "      <td>63.0</td>\n",
       "      <td>Sacred Monkey Forest Sanctuary</td>\n",
       "      <td>Jl. Monkey Forest, Ubud 80571 Indonesia</td>\n",
       "      <td>79069.0</td>\n",
       "      <td>Couples</td>\n",
       "    </tr>\n",
       "    <tr>\n",
       "      <th>3</th>\n",
       "      <td>Asia</td>\n",
       "      <td>1.0</td>\n",
       "      <td>3.0</td>\n",
       "      <td>North Africa</td>\n",
       "      <td>10</td>\n",
       "      <td>10</td>\n",
       "      <td>Rwanda</td>\n",
       "      <td>N'Djamena</td>\n",
       "      <td>3</td>\n",
       "      <td>2022</td>\n",
       "      <td>...</td>\n",
       "      <td>3.0</td>\n",
       "      <td>2.0</td>\n",
       "      <td>3.0</td>\n",
       "      <td>1.0</td>\n",
       "      <td>650.0</td>\n",
       "      <td>13.0</td>\n",
       "      <td>Sanur Beach</td>\n",
       "      <td>Sanur</td>\n",
       "      <td>31019.0</td>\n",
       "      <td>Family</td>\n",
       "    </tr>\n",
       "    <tr>\n",
       "      <th>4</th>\n",
       "      <td>Australia &amp; Oceania</td>\n",
       "      <td>1.0</td>\n",
       "      <td>4.0</td>\n",
       "      <td>Southern Africa</td>\n",
       "      <td>15</td>\n",
       "      <td>10</td>\n",
       "      <td>Ethiopia</td>\n",
       "      <td>Kigali</td>\n",
       "      <td>3</td>\n",
       "      <td>2022</td>\n",
       "      <td>...</td>\n",
       "      <td>4.0</td>\n",
       "      <td>3.0</td>\n",
       "      <td>4.0</td>\n",
       "      <td>2.0</td>\n",
       "      <td>673.0</td>\n",
       "      <td>13.0</td>\n",
       "      <td>Seminyak Beach</td>\n",
       "      <td>Seminyak</td>\n",
       "      <td>43611.0</td>\n",
       "      <td>Friends</td>\n",
       "    </tr>\n",
       "    <tr>\n",
       "      <th>...</th>\n",
       "      <td>...</td>\n",
       "      <td>...</td>\n",
       "      <td>...</td>\n",
       "      <td>...</td>\n",
       "      <td>...</td>\n",
       "      <td>...</td>\n",
       "      <td>...</td>\n",
       "      <td>...</td>\n",
       "      <td>...</td>\n",
       "      <td>...</td>\n",
       "      <td>...</td>\n",
       "      <td>...</td>\n",
       "      <td>...</td>\n",
       "      <td>...</td>\n",
       "      <td>...</td>\n",
       "      <td>...</td>\n",
       "      <td>...</td>\n",
       "      <td>...</td>\n",
       "      <td>...</td>\n",
       "      <td>...</td>\n",
       "      <td>...</td>\n",
       "    </tr>\n",
       "    <tr>\n",
       "      <th>52925</th>\n",
       "      <td>NaN</td>\n",
       "      <td>NaN</td>\n",
       "      <td>NaN</td>\n",
       "      <td>NaN</td>\n",
       "      <td>211227</td>\n",
       "      <td>9</td>\n",
       "      <td>NaN</td>\n",
       "      <td>NaN</td>\n",
       "      <td>4</td>\n",
       "      <td>2018</td>\n",
       "      <td>...</td>\n",
       "      <td>NaN</td>\n",
       "      <td>NaN</td>\n",
       "      <td>NaN</td>\n",
       "      <td>NaN</td>\n",
       "      <td>1297.0</td>\n",
       "      <td>NaN</td>\n",
       "      <td>NaN</td>\n",
       "      <td>NaN</td>\n",
       "      <td>87100.0</td>\n",
       "      <td>2</td>\n",
       "    </tr>\n",
       "    <tr>\n",
       "      <th>52926</th>\n",
       "      <td>NaN</td>\n",
       "      <td>NaN</td>\n",
       "      <td>NaN</td>\n",
       "      <td>NaN</td>\n",
       "      <td>211238</td>\n",
       "      <td>2</td>\n",
       "      <td>NaN</td>\n",
       "      <td>NaN</td>\n",
       "      <td>5</td>\n",
       "      <td>2016</td>\n",
       "      <td>...</td>\n",
       "      <td>NaN</td>\n",
       "      <td>NaN</td>\n",
       "      <td>NaN</td>\n",
       "      <td>NaN</td>\n",
       "      <td>1297.0</td>\n",
       "      <td>NaN</td>\n",
       "      <td>NaN</td>\n",
       "      <td>NaN</td>\n",
       "      <td>88112.0</td>\n",
       "      <td>2</td>\n",
       "    </tr>\n",
       "    <tr>\n",
       "      <th>52927</th>\n",
       "      <td>NaN</td>\n",
       "      <td>NaN</td>\n",
       "      <td>NaN</td>\n",
       "      <td>NaN</td>\n",
       "      <td>211239</td>\n",
       "      <td>2</td>\n",
       "      <td>NaN</td>\n",
       "      <td>NaN</td>\n",
       "      <td>4</td>\n",
       "      <td>2016</td>\n",
       "      <td>...</td>\n",
       "      <td>NaN</td>\n",
       "      <td>NaN</td>\n",
       "      <td>NaN</td>\n",
       "      <td>NaN</td>\n",
       "      <td>1297.0</td>\n",
       "      <td>NaN</td>\n",
       "      <td>NaN</td>\n",
       "      <td>NaN</td>\n",
       "      <td>88112.0</td>\n",
       "      <td>2</td>\n",
       "    </tr>\n",
       "    <tr>\n",
       "      <th>52928</th>\n",
       "      <td>NaN</td>\n",
       "      <td>NaN</td>\n",
       "      <td>NaN</td>\n",
       "      <td>NaN</td>\n",
       "      <td>211240</td>\n",
       "      <td>2</td>\n",
       "      <td>NaN</td>\n",
       "      <td>NaN</td>\n",
       "      <td>4</td>\n",
       "      <td>2016</td>\n",
       "      <td>...</td>\n",
       "      <td>NaN</td>\n",
       "      <td>NaN</td>\n",
       "      <td>NaN</td>\n",
       "      <td>NaN</td>\n",
       "      <td>1297.0</td>\n",
       "      <td>NaN</td>\n",
       "      <td>NaN</td>\n",
       "      <td>NaN</td>\n",
       "      <td>88112.0</td>\n",
       "      <td>2</td>\n",
       "    </tr>\n",
       "    <tr>\n",
       "      <th>52929</th>\n",
       "      <td>NaN</td>\n",
       "      <td>NaN</td>\n",
       "      <td>NaN</td>\n",
       "      <td>NaN</td>\n",
       "      <td>211241</td>\n",
       "      <td>2</td>\n",
       "      <td>NaN</td>\n",
       "      <td>NaN</td>\n",
       "      <td>5</td>\n",
       "      <td>2016</td>\n",
       "      <td>...</td>\n",
       "      <td>NaN</td>\n",
       "      <td>NaN</td>\n",
       "      <td>NaN</td>\n",
       "      <td>NaN</td>\n",
       "      <td>1297.0</td>\n",
       "      <td>NaN</td>\n",
       "      <td>NaN</td>\n",
       "      <td>NaN</td>\n",
       "      <td>88112.0</td>\n",
       "      <td>2</td>\n",
       "    </tr>\n",
       "  </tbody>\n",
       "</table>\n",
       "<p>52930 rows × 21 columns</p>\n",
       "</div>"
      ],
      "text/plain": [
       "                 Continent  AttractionCityId  VisitModeId           Region  \\\n",
       "0                        -               1.0          0.0                -   \n",
       "1                   Africa               1.0          1.0   Central Africa   \n",
       "2                  America               1.0          2.0      East Africa   \n",
       "3                     Asia               1.0          3.0     North Africa   \n",
       "4      Australia & Oceania               1.0          4.0  Southern Africa   \n",
       "...                    ...               ...          ...              ...   \n",
       "52925                  NaN               NaN          NaN              NaN   \n",
       "52926                  NaN               NaN          NaN              NaN   \n",
       "52927                  NaN               NaN          NaN              NaN   \n",
       "52928                  NaN               NaN          NaN              NaN   \n",
       "52929                  NaN               NaN          NaN              NaN   \n",
       "\n",
       "       TransactionId  VisitMonth   Country      CityName  Rating  VisitYear  \\\n",
       "0                  3          10         -             -       5       2022   \n",
       "1                  8          10  Cameroon        Douala       5       2022   \n",
       "2                  9          10      Chad  South Region       5       2022   \n",
       "3                 10          10    Rwanda     N'Djamena       3       2022   \n",
       "4                 15          10  Ethiopia        Kigali       3       2022   \n",
       "...              ...         ...       ...           ...     ...        ...   \n",
       "52925         211227           9       NaN           NaN       4       2018   \n",
       "52926         211238           2       NaN           NaN       5       2016   \n",
       "52927         211239           2       NaN           NaN       4       2016   \n",
       "52928         211240           2       NaN           NaN       4       2016   \n",
       "52929         211241           2       NaN           NaN       5       2016   \n",
       "\n",
       "       ... CityId  CountryId  ContinentId  RegionId  AttractionId  \\\n",
       "0      ...    0.0        0.0          0.0       0.0         369.0   \n",
       "1      ...    1.0        1.0          1.0       1.0         481.0   \n",
       "2      ...    2.0        1.0          2.0       1.0         640.0   \n",
       "3      ...    3.0        2.0          3.0       1.0         650.0   \n",
       "4      ...    4.0        3.0          4.0       2.0         673.0   \n",
       "...    ...    ...        ...          ...       ...           ...   \n",
       "52925  ...    NaN        NaN          NaN       NaN        1297.0   \n",
       "52926  ...    NaN        NaN          NaN       NaN        1297.0   \n",
       "52927  ...    NaN        NaN          NaN       NaN        1297.0   \n",
       "52928  ...    NaN        NaN          NaN       NaN        1297.0   \n",
       "52929  ...    NaN        NaN          NaN       NaN        1297.0   \n",
       "\n",
       "       AttractionTypeId                      Attraction  \\\n",
       "0                  13.0               Kuta Beach - Bali   \n",
       "1                  13.0                  Nusa Dua Beach   \n",
       "2                  63.0  Sacred Monkey Forest Sanctuary   \n",
       "3                  13.0                     Sanur Beach   \n",
       "4                  13.0                  Seminyak Beach   \n",
       "...                 ...                             ...   \n",
       "52925               NaN                             NaN   \n",
       "52926               NaN                             NaN   \n",
       "52927               NaN                             NaN   \n",
       "52928               NaN                             NaN   \n",
       "52929               NaN                             NaN   \n",
       "\n",
       "                                    AttractionAddress   UserId  VisitMode  \n",
       "0                                                Kuta  70456.0          -  \n",
       "1      Semenanjung Nusa Dua, Nusa Dua 80517 Indonesia   7567.0   Business  \n",
       "2             Jl. Monkey Forest, Ubud 80571 Indonesia  79069.0    Couples  \n",
       "3                                               Sanur  31019.0     Family  \n",
       "4                                            Seminyak  43611.0    Friends  \n",
       "...                                               ...      ...        ...  \n",
       "52925                                             NaN  87100.0          2  \n",
       "52926                                             NaN  88112.0          2  \n",
       "52927                                             NaN  88112.0          2  \n",
       "52928                                             NaN  88112.0          2  \n",
       "52929                                             NaN  88112.0          2  \n",
       "\n",
       "[52930 rows x 21 columns]"
      ]
     },
     "execution_count": 170,
     "metadata": {},
     "output_type": "execute_result"
    }
   ],
   "source": [
    "combined_df"
   ]
  },
  {
   "cell_type": "code",
   "execution_count": 171,
   "id": "5d860dbf",
   "metadata": {},
   "outputs": [
    {
     "data": {
      "text/plain": [
       "Continent            52924\n",
       "AttractionCityId     52900\n",
       "VisitModeId          52924\n",
       "Region               52908\n",
       "TransactionId            0\n",
       "VisitMonth               0\n",
       "Country              52765\n",
       "CityName             43788\n",
       "Rating                   0\n",
       "VisitYear                0\n",
       "AttractionType       52913\n",
       "CityId               19402\n",
       "CountryId            19400\n",
       "ContinentId          19400\n",
       "RegionId             19400\n",
       "AttractionId             0\n",
       "AttractionTypeId     51232\n",
       "Attraction           51232\n",
       "AttractionAddress    51232\n",
       "UserId                   0\n",
       "VisitMode                0\n",
       "dtype: int64"
      ]
     },
     "execution_count": 171,
     "metadata": {},
     "output_type": "execute_result"
    }
   ],
   "source": [
    "combined_df.isnull().sum()"
   ]
  },
  {
   "cell_type": "code",
   "execution_count": 173,
   "id": "ac504076",
   "metadata": {},
   "outputs": [
    {
     "data": {
      "text/plain": [
       "Continent             object\n",
       "AttractionCityId     float64\n",
       "VisitModeId          float64\n",
       "Region                object\n",
       "TransactionId          int64\n",
       "VisitMonth             int64\n",
       "Country               object\n",
       "CityName              object\n",
       "Rating                 int64\n",
       "VisitYear              int64\n",
       "AttractionType        object\n",
       "CityId               float64\n",
       "CountryId            float64\n",
       "ContinentId          float64\n",
       "RegionId             float64\n",
       "AttractionId         float64\n",
       "AttractionTypeId      object\n",
       "Attraction            object\n",
       "AttractionAddress     object\n",
       "UserId               float64\n",
       "VisitMode             object\n",
       "dtype: object"
      ]
     },
     "execution_count": 173,
     "metadata": {},
     "output_type": "execute_result"
    }
   ],
   "source": [
    "combined_df.dtypes"
   ]
  },
  {
   "cell_type": "code",
   "execution_count": 174,
   "id": "700af1ff",
   "metadata": {},
   "outputs": [],
   "source": [
    "# CLEANING PROCESS"
   ]
  },
  {
   "cell_type": "code",
   "execution_count": null,
   "id": "32ab4381",
   "metadata": {},
   "outputs": [
    {
     "name": "stdout",
     "output_type": "stream",
     "text": [
      "✅ Data cleaned successfully!\n",
      "\n",
      "Missing values per column:\n",
      " Series([], dtype: int64)\n"
     ]
    }
   ],
   "source": [
    "text_cols = ['CityName', 'Country', 'Continent', 'VisitMode', 'Region',\n",
    "             'Attraction', 'AttractionAddress', 'AttractionType']\n",
    "for col in text_cols:\n",
    "    if col in combined_df.columns:\n",
    "        combined_df[col] = combined_df[col].apply(\n",
    "            lambda x: str(x).strip().title() if pd.notna(x) else pd.NA\n",
    "        )\n",
    "\n",
    "categorical_cols = ['CityName', 'Country', 'Continent', 'VisitMode', 'Region']\n",
    "for col in categorical_cols:\n",
    "    if col in combined_df.columns:\n",
    "        combined_df[col] = combined_df[col].fillna('Unknown')\n",
    "\n",
    "id_cols = ['UserId', 'TransactionId', 'CityId', 'RegionId', \n",
    "           'CountryId', 'ContinentId', 'AttractionId', 'VisitModeId', \n",
    "           'AttractionCityId', 'AttractionTypeId']\n",
    "for col in id_cols:\n",
    "    if col in combined_df.columns:\n",
    "        combined_df[col] = pd.to_numeric(combined_df[col], errors='coerce').fillna(-1).astype('Int64')\n",
    "\n",
    "if 'Rating' in combined_df.columns:\n",
    "    combined_df['Rating'] = pd.to_numeric(combined_df['Rating'], errors='coerce')\n",
    "    combined_df['Rating'] = combined_df['Rating'].fillna(combined_df['Rating'].mean())\n",
    "if 'VisitYear' in combined_df.columns:\n",
    "    combined_df['VisitYear'] = pd.to_numeric(combined_df['VisitYear'], errors='coerce')\n",
    "    combined_df['VisitYear'] = combined_df['VisitYear'].fillna(2000).astype('Int64')\n",
    "if 'VisitMonth' in combined_df.columns:\n",
    "    combined_df['VisitMonth'] = pd.to_numeric(combined_df['VisitMonth'], errors='coerce')\n",
    "    combined_df['VisitMonth'] = combined_df['VisitMonth'].fillna(1).astype('Int64')\n",
    "\n",
    "if 'VisitDate' in combined_df.columns:\n",
    "    combined_df['VisitDate'] = pd.to_datetime(combined_df['VisitDate'], errors='coerce')\n",
    "\n",
    "combined_df.dropna(subset=['UserId', 'TransactionId'], inplace=True)\n",
    "\n",
    "\n",
    "if 'AttractionId' in combined_df.columns and 'Attraction' in combined_df.columns:\n",
    "    mapping = combined_df.dropna(subset=['AttractionId', 'Attraction']).drop_duplicates('AttractionId')\n",
    "    combined_df['Attraction'] = combined_df['Attraction'].fillna(\n",
    "        combined_df['AttractionId'].map(mapping.set_index('AttractionId')['Attraction'])\n",
    "    )\n",
    "\n",
    "if 'AttractionId' in combined_df.columns and 'AttractionAddress' in combined_df.columns:\n",
    "    mapping = combined_df.dropna(subset=['AttractionId', 'AttractionAddress']).drop_duplicates('AttractionId')\n",
    "    combined_df['AttractionAddress'] = combined_df['AttractionAddress'].fillna(\n",
    "        combined_df['AttractionId'].map(mapping.set_index('AttractionId')['AttractionAddress'])\n",
    "    )\n",
    "\n",
    "\n",
    "if 'AttractionTypeId' in combined_df.columns and 'AttractionType' in combined_df.columns:\n",
    "    mapping = combined_df.dropna(subset=['AttractionTypeId', 'AttractionType']).drop_duplicates('AttractionTypeId')\n",
    "    combined_df['AttractionType'] = combined_df['AttractionType'].fillna(\n",
    "        combined_df['AttractionTypeId'].map(mapping.set_index('AttractionTypeId')['AttractionType'])\n",
    "    )\n",
    "\n",
    "combined_df['Attraction'] = combined_df['Attraction'].fillna('Unknown')\n",
    "combined_df['AttractionAddress'] = combined_df['AttractionAddress'].fillna('Unknown')\n",
    "combined_df['AttractionType'] = combined_df['AttractionType'].fillna('Unknown')\n",
    "\n",
    "missing = combined_df.isnull().sum()\n",
    "missing = missing[missing > 0].sort_values(ascending=False)\n",
    "\n",
    "print(\"✅ Data cleaned successfully!\")\n",
    "print(\"\\nMissing values per column:\\n\", missing)\n"
   ]
  },
  {
   "cell_type": "code",
   "execution_count": 176,
   "id": "0bf2ae77",
   "metadata": {},
   "outputs": [
    {
     "data": {
      "text/plain": [
       "Continent            0\n",
       "AttractionCityId     0\n",
       "VisitModeId          0\n",
       "Region               0\n",
       "TransactionId        0\n",
       "VisitMonth           0\n",
       "Country              0\n",
       "CityName             0\n",
       "Rating               0\n",
       "VisitYear            0\n",
       "AttractionType       0\n",
       "CityId               0\n",
       "CountryId            0\n",
       "ContinentId          0\n",
       "RegionId             0\n",
       "AttractionId         0\n",
       "AttractionTypeId     0\n",
       "Attraction           0\n",
       "AttractionAddress    0\n",
       "UserId               0\n",
       "VisitMode            0\n",
       "dtype: int64"
      ]
     },
     "execution_count": 176,
     "metadata": {},
     "output_type": "execute_result"
    }
   ],
   "source": [
    "combined_df.isnull().sum()\n"
   ]
  },
  {
   "cell_type": "code",
   "execution_count": 178,
   "id": "15014ce1",
   "metadata": {},
   "outputs": [
    {
     "data": {
      "text/html": [
       "<div>\n",
       "<style scoped>\n",
       "    .dataframe tbody tr th:only-of-type {\n",
       "        vertical-align: middle;\n",
       "    }\n",
       "\n",
       "    .dataframe tbody tr th {\n",
       "        vertical-align: top;\n",
       "    }\n",
       "\n",
       "    .dataframe thead th {\n",
       "        text-align: right;\n",
       "    }\n",
       "</style>\n",
       "<table border=\"1\" class=\"dataframe\">\n",
       "  <thead>\n",
       "    <tr style=\"text-align: right;\">\n",
       "      <th></th>\n",
       "      <th>Continent</th>\n",
       "      <th>AttractionCityId</th>\n",
       "      <th>VisitModeId</th>\n",
       "      <th>Region</th>\n",
       "      <th>TransactionId</th>\n",
       "      <th>VisitMonth</th>\n",
       "      <th>Country</th>\n",
       "      <th>CityName</th>\n",
       "      <th>Rating</th>\n",
       "      <th>VisitYear</th>\n",
       "      <th>...</th>\n",
       "      <th>CityId</th>\n",
       "      <th>CountryId</th>\n",
       "      <th>ContinentId</th>\n",
       "      <th>RegionId</th>\n",
       "      <th>AttractionId</th>\n",
       "      <th>AttractionTypeId</th>\n",
       "      <th>Attraction</th>\n",
       "      <th>AttractionAddress</th>\n",
       "      <th>UserId</th>\n",
       "      <th>VisitMode</th>\n",
       "    </tr>\n",
       "  </thead>\n",
       "  <tbody>\n",
       "    <tr>\n",
       "      <th>0</th>\n",
       "      <td>-</td>\n",
       "      <td>1</td>\n",
       "      <td>0</td>\n",
       "      <td>-</td>\n",
       "      <td>3</td>\n",
       "      <td>10</td>\n",
       "      <td>-</td>\n",
       "      <td>-</td>\n",
       "      <td>5</td>\n",
       "      <td>2022</td>\n",
       "      <td>...</td>\n",
       "      <td>0</td>\n",
       "      <td>0</td>\n",
       "      <td>0</td>\n",
       "      <td>0</td>\n",
       "      <td>369</td>\n",
       "      <td>13</td>\n",
       "      <td>Kuta Beach - Bali</td>\n",
       "      <td>Kuta</td>\n",
       "      <td>70456</td>\n",
       "      <td>-</td>\n",
       "    </tr>\n",
       "    <tr>\n",
       "      <th>1</th>\n",
       "      <td>Africa</td>\n",
       "      <td>1</td>\n",
       "      <td>1</td>\n",
       "      <td>Central Africa</td>\n",
       "      <td>8</td>\n",
       "      <td>10</td>\n",
       "      <td>Cameroon</td>\n",
       "      <td>Douala</td>\n",
       "      <td>5</td>\n",
       "      <td>2022</td>\n",
       "      <td>...</td>\n",
       "      <td>1</td>\n",
       "      <td>1</td>\n",
       "      <td>1</td>\n",
       "      <td>1</td>\n",
       "      <td>481</td>\n",
       "      <td>13</td>\n",
       "      <td>Nusa Dua Beach</td>\n",
       "      <td>Semenanjung Nusa Dua, Nusa Dua 80517 Indonesia</td>\n",
       "      <td>7567</td>\n",
       "      <td>Business</td>\n",
       "    </tr>\n",
       "    <tr>\n",
       "      <th>2</th>\n",
       "      <td>America</td>\n",
       "      <td>1</td>\n",
       "      <td>2</td>\n",
       "      <td>East Africa</td>\n",
       "      <td>9</td>\n",
       "      <td>10</td>\n",
       "      <td>Chad</td>\n",
       "      <td>South Region</td>\n",
       "      <td>5</td>\n",
       "      <td>2022</td>\n",
       "      <td>...</td>\n",
       "      <td>2</td>\n",
       "      <td>1</td>\n",
       "      <td>2</td>\n",
       "      <td>1</td>\n",
       "      <td>640</td>\n",
       "      <td>63</td>\n",
       "      <td>Sacred Monkey Forest Sanctuary</td>\n",
       "      <td>Jl. Monkey Forest, Ubud 80571 Indonesia</td>\n",
       "      <td>79069</td>\n",
       "      <td>Couples</td>\n",
       "    </tr>\n",
       "    <tr>\n",
       "      <th>3</th>\n",
       "      <td>Asia</td>\n",
       "      <td>1</td>\n",
       "      <td>3</td>\n",
       "      <td>North Africa</td>\n",
       "      <td>10</td>\n",
       "      <td>10</td>\n",
       "      <td>Rwanda</td>\n",
       "      <td>N'Djamena</td>\n",
       "      <td>3</td>\n",
       "      <td>2022</td>\n",
       "      <td>...</td>\n",
       "      <td>3</td>\n",
       "      <td>2</td>\n",
       "      <td>3</td>\n",
       "      <td>1</td>\n",
       "      <td>650</td>\n",
       "      <td>13</td>\n",
       "      <td>Sanur Beach</td>\n",
       "      <td>Sanur</td>\n",
       "      <td>31019</td>\n",
       "      <td>Family</td>\n",
       "    </tr>\n",
       "    <tr>\n",
       "      <th>4</th>\n",
       "      <td>Australia &amp; Oceania</td>\n",
       "      <td>1</td>\n",
       "      <td>4</td>\n",
       "      <td>Southern Africa</td>\n",
       "      <td>15</td>\n",
       "      <td>10</td>\n",
       "      <td>Ethiopia</td>\n",
       "      <td>Kigali</td>\n",
       "      <td>3</td>\n",
       "      <td>2022</td>\n",
       "      <td>...</td>\n",
       "      <td>4</td>\n",
       "      <td>3</td>\n",
       "      <td>4</td>\n",
       "      <td>2</td>\n",
       "      <td>673</td>\n",
       "      <td>13</td>\n",
       "      <td>Seminyak Beach</td>\n",
       "      <td>Seminyak</td>\n",
       "      <td>43611</td>\n",
       "      <td>Friends</td>\n",
       "    </tr>\n",
       "    <tr>\n",
       "      <th>...</th>\n",
       "      <td>...</td>\n",
       "      <td>...</td>\n",
       "      <td>...</td>\n",
       "      <td>...</td>\n",
       "      <td>...</td>\n",
       "      <td>...</td>\n",
       "      <td>...</td>\n",
       "      <td>...</td>\n",
       "      <td>...</td>\n",
       "      <td>...</td>\n",
       "      <td>...</td>\n",
       "      <td>...</td>\n",
       "      <td>...</td>\n",
       "      <td>...</td>\n",
       "      <td>...</td>\n",
       "      <td>...</td>\n",
       "      <td>...</td>\n",
       "      <td>...</td>\n",
       "      <td>...</td>\n",
       "      <td>...</td>\n",
       "      <td>...</td>\n",
       "    </tr>\n",
       "    <tr>\n",
       "      <th>52925</th>\n",
       "      <td>Unknown</td>\n",
       "      <td>-1</td>\n",
       "      <td>-1</td>\n",
       "      <td>Unknown</td>\n",
       "      <td>211227</td>\n",
       "      <td>9</td>\n",
       "      <td>Unknown</td>\n",
       "      <td>Unknown</td>\n",
       "      <td>4</td>\n",
       "      <td>2018</td>\n",
       "      <td>...</td>\n",
       "      <td>-1</td>\n",
       "      <td>-1</td>\n",
       "      <td>-1</td>\n",
       "      <td>-1</td>\n",
       "      <td>1297</td>\n",
       "      <td>-1</td>\n",
       "      <td>Yogyakarta Palace</td>\n",
       "      <td>Yogyakarta</td>\n",
       "      <td>87100</td>\n",
       "      <td>2</td>\n",
       "    </tr>\n",
       "    <tr>\n",
       "      <th>52926</th>\n",
       "      <td>Unknown</td>\n",
       "      <td>-1</td>\n",
       "      <td>-1</td>\n",
       "      <td>Unknown</td>\n",
       "      <td>211238</td>\n",
       "      <td>2</td>\n",
       "      <td>Unknown</td>\n",
       "      <td>Unknown</td>\n",
       "      <td>5</td>\n",
       "      <td>2016</td>\n",
       "      <td>...</td>\n",
       "      <td>-1</td>\n",
       "      <td>-1</td>\n",
       "      <td>-1</td>\n",
       "      <td>-1</td>\n",
       "      <td>1297</td>\n",
       "      <td>-1</td>\n",
       "      <td>Yogyakarta Palace</td>\n",
       "      <td>Yogyakarta</td>\n",
       "      <td>88112</td>\n",
       "      <td>2</td>\n",
       "    </tr>\n",
       "    <tr>\n",
       "      <th>52927</th>\n",
       "      <td>Unknown</td>\n",
       "      <td>-1</td>\n",
       "      <td>-1</td>\n",
       "      <td>Unknown</td>\n",
       "      <td>211239</td>\n",
       "      <td>2</td>\n",
       "      <td>Unknown</td>\n",
       "      <td>Unknown</td>\n",
       "      <td>4</td>\n",
       "      <td>2016</td>\n",
       "      <td>...</td>\n",
       "      <td>-1</td>\n",
       "      <td>-1</td>\n",
       "      <td>-1</td>\n",
       "      <td>-1</td>\n",
       "      <td>1297</td>\n",
       "      <td>-1</td>\n",
       "      <td>Yogyakarta Palace</td>\n",
       "      <td>Yogyakarta</td>\n",
       "      <td>88112</td>\n",
       "      <td>2</td>\n",
       "    </tr>\n",
       "    <tr>\n",
       "      <th>52928</th>\n",
       "      <td>Unknown</td>\n",
       "      <td>-1</td>\n",
       "      <td>-1</td>\n",
       "      <td>Unknown</td>\n",
       "      <td>211240</td>\n",
       "      <td>2</td>\n",
       "      <td>Unknown</td>\n",
       "      <td>Unknown</td>\n",
       "      <td>4</td>\n",
       "      <td>2016</td>\n",
       "      <td>...</td>\n",
       "      <td>-1</td>\n",
       "      <td>-1</td>\n",
       "      <td>-1</td>\n",
       "      <td>-1</td>\n",
       "      <td>1297</td>\n",
       "      <td>-1</td>\n",
       "      <td>Yogyakarta Palace</td>\n",
       "      <td>Yogyakarta</td>\n",
       "      <td>88112</td>\n",
       "      <td>2</td>\n",
       "    </tr>\n",
       "    <tr>\n",
       "      <th>52929</th>\n",
       "      <td>Unknown</td>\n",
       "      <td>-1</td>\n",
       "      <td>-1</td>\n",
       "      <td>Unknown</td>\n",
       "      <td>211241</td>\n",
       "      <td>2</td>\n",
       "      <td>Unknown</td>\n",
       "      <td>Unknown</td>\n",
       "      <td>5</td>\n",
       "      <td>2016</td>\n",
       "      <td>...</td>\n",
       "      <td>-1</td>\n",
       "      <td>-1</td>\n",
       "      <td>-1</td>\n",
       "      <td>-1</td>\n",
       "      <td>1297</td>\n",
       "      <td>-1</td>\n",
       "      <td>Yogyakarta Palace</td>\n",
       "      <td>Yogyakarta</td>\n",
       "      <td>88112</td>\n",
       "      <td>2</td>\n",
       "    </tr>\n",
       "  </tbody>\n",
       "</table>\n",
       "<p>52930 rows × 21 columns</p>\n",
       "</div>"
      ],
      "text/plain": [
       "                 Continent  AttractionCityId  VisitModeId           Region  \\\n",
       "0                        -                 1            0                -   \n",
       "1                   Africa                 1            1   Central Africa   \n",
       "2                  America                 1            2      East Africa   \n",
       "3                     Asia                 1            3     North Africa   \n",
       "4      Australia & Oceania                 1            4  Southern Africa   \n",
       "...                    ...               ...          ...              ...   \n",
       "52925              Unknown                -1           -1          Unknown   \n",
       "52926              Unknown                -1           -1          Unknown   \n",
       "52927              Unknown                -1           -1          Unknown   \n",
       "52928              Unknown                -1           -1          Unknown   \n",
       "52929              Unknown                -1           -1          Unknown   \n",
       "\n",
       "       TransactionId  VisitMonth   Country      CityName  Rating  VisitYear  \\\n",
       "0                  3          10         -             -       5       2022   \n",
       "1                  8          10  Cameroon        Douala       5       2022   \n",
       "2                  9          10      Chad  South Region       5       2022   \n",
       "3                 10          10    Rwanda     N'Djamena       3       2022   \n",
       "4                 15          10  Ethiopia        Kigali       3       2022   \n",
       "...              ...         ...       ...           ...     ...        ...   \n",
       "52925         211227           9   Unknown       Unknown       4       2018   \n",
       "52926         211238           2   Unknown       Unknown       5       2016   \n",
       "52927         211239           2   Unknown       Unknown       4       2016   \n",
       "52928         211240           2   Unknown       Unknown       4       2016   \n",
       "52929         211241           2   Unknown       Unknown       5       2016   \n",
       "\n",
       "       ... CityId  CountryId  ContinentId  RegionId  AttractionId  \\\n",
       "0      ...      0          0            0         0           369   \n",
       "1      ...      1          1            1         1           481   \n",
       "2      ...      2          1            2         1           640   \n",
       "3      ...      3          2            3         1           650   \n",
       "4      ...      4          3            4         2           673   \n",
       "...    ...    ...        ...          ...       ...           ...   \n",
       "52925  ...     -1         -1           -1        -1          1297   \n",
       "52926  ...     -1         -1           -1        -1          1297   \n",
       "52927  ...     -1         -1           -1        -1          1297   \n",
       "52928  ...     -1         -1           -1        -1          1297   \n",
       "52929  ...     -1         -1           -1        -1          1297   \n",
       "\n",
       "       AttractionTypeId                      Attraction  \\\n",
       "0                    13               Kuta Beach - Bali   \n",
       "1                    13                  Nusa Dua Beach   \n",
       "2                    63  Sacred Monkey Forest Sanctuary   \n",
       "3                    13                     Sanur Beach   \n",
       "4                    13                  Seminyak Beach   \n",
       "...                 ...                             ...   \n",
       "52925                -1               Yogyakarta Palace   \n",
       "52926                -1               Yogyakarta Palace   \n",
       "52927                -1               Yogyakarta Palace   \n",
       "52928                -1               Yogyakarta Palace   \n",
       "52929                -1               Yogyakarta Palace   \n",
       "\n",
       "                                    AttractionAddress UserId  VisitMode  \n",
       "0                                                Kuta  70456          -  \n",
       "1      Semenanjung Nusa Dua, Nusa Dua 80517 Indonesia   7567   Business  \n",
       "2             Jl. Monkey Forest, Ubud 80571 Indonesia  79069    Couples  \n",
       "3                                               Sanur  31019     Family  \n",
       "4                                            Seminyak  43611    Friends  \n",
       "...                                               ...    ...        ...  \n",
       "52925                                      Yogyakarta  87100          2  \n",
       "52926                                      Yogyakarta  88112          2  \n",
       "52927                                      Yogyakarta  88112          2  \n",
       "52928                                      Yogyakarta  88112          2  \n",
       "52929                                      Yogyakarta  88112          2  \n",
       "\n",
       "[52930 rows x 21 columns]"
      ]
     },
     "execution_count": 178,
     "metadata": {},
     "output_type": "execute_result"
    }
   ],
   "source": [
    "combined_df"
   ]
  },
  {
   "cell_type": "code",
   "execution_count": 179,
   "id": "a8e40a29",
   "metadata": {},
   "outputs": [
    {
     "name": "stdout",
     "output_type": "stream",
     "text": [
      "\n",
      "Data types:\n",
      " Continent            object\n",
      "AttractionCityId      Int64\n",
      "VisitModeId           Int64\n",
      "Region               object\n",
      "TransactionId         Int64\n",
      "VisitMonth            Int64\n",
      "Country              object\n",
      "CityName             object\n",
      "Rating                int64\n",
      "VisitYear             Int64\n",
      "AttractionType       object\n",
      "CityId                Int64\n",
      "CountryId             Int64\n",
      "ContinentId           Int64\n",
      "RegionId              Int64\n",
      "AttractionId          Int64\n",
      "AttractionTypeId      Int64\n",
      "Attraction           object\n",
      "AttractionAddress    object\n",
      "UserId                Int64\n",
      "VisitMode            object\n",
      "dtype: object\n"
     ]
    }
   ],
   "source": [
    "print(\"\\nData types:\\n\", combined_df.dtypes)"
   ]
  },
  {
   "cell_type": "code",
   "execution_count": 180,
   "id": "f96b7f06",
   "metadata": {},
   "outputs": [],
   "source": [
    "# PREPROCESSING"
   ]
  },
  {
   "cell_type": "code",
   "execution_count": 80,
   "id": "d725201b",
   "metadata": {},
   "outputs": [
    {
     "name": "stdout",
     "output_type": "stream",
     "text": [
      "✅ Preprocessing completed successfully!\n",
      "\n",
      "Sample rows:\n",
      "   CityId      CityName  CountryId  ContinentId  Continent  Country  RegionId  \\\n",
      "0       0             -          0           -1          6      156        -1   \n",
      "1       1        Douala          1           -1          6      156        -1   \n",
      "2       2  South Region          1           -1          6      156        -1   \n",
      "3       3     N'Djamena          2           -1          6      156        -1   \n",
      "4       4        Kigali          3           -1          6      156        -1   \n",
      "\n",
      "   AttractionId  AttractionCityId  AttractionTypeId  ... TransactionId UserId  \\\n",
      "0            -1                -1                -1  ...            -1     -1   \n",
      "1            -1                -1                -1  ...            -1     -1   \n",
      "2            -1                -1                -1  ...            -1     -1   \n",
      "3            -1                -1                -1  ...            -1     -1   \n",
      "4            -1                -1                -1  ...            -1     -1   \n",
      "\n",
      "   VisitYear  VisitMonth        Rating  AttractionType     AvgRating  \\\n",
      "0       2000           1  2.484709e-15              14  1.904912e-15   \n",
      "1       2000           1  2.484709e-15              14  1.904912e-15   \n",
      "2       2000           1  2.484709e-15              14  1.904912e-15   \n",
      "3       2000           1  2.484709e-15              14  1.904912e-15   \n",
      "4       2000           1  2.484709e-15              14  1.904912e-15   \n",
      "\n",
      "   TotalVisits  VisitModeVariety  VisitYearSpan  \n",
      "0     2.792547          2.645949      -1.394079  \n",
      "1     2.792547          2.645949      -1.394079  \n",
      "2     2.792547          2.645949      -1.394079  \n",
      "3     2.792547          2.645949      -1.394079  \n",
      "4     2.792547          2.645949      -1.394079  \n",
      "\n",
      "[5 rows x 25 columns]\n"
     ]
    }
   ],
   "source": [
    "df = combined_df.copy()\n",
    "\n",
    "\n",
    "label_cols = ['VisitMode', 'Continent', 'Country', 'AttractionType', 'Region']\n",
    "label_encoders = {}\n",
    "\n",
    "for col in label_cols:\n",
    "    le = LabelEncoder()\n",
    "    df[col] = le.fit_transform(df[col].astype(str)) \n",
    "    label_encoders[col] = le  \n",
    "\n",
    "user_features = df.groupby('UserId').agg({\n",
    "    'Rating': ['mean', 'count'],\n",
    "    'VisitMode': 'nunique',\n",
    "    'VisitYear': 'nunique'\n",
    "}).reset_index()\n",
    "\n",
    "user_features.columns = ['UserId', 'AvgRating', 'TotalVisits', 'VisitModeVariety', 'VisitYearSpan']\n",
    "\n",
    "df = df.merge(user_features, on='UserId', how='left')\n",
    "\n",
    "num_cols = ['Rating', 'AvgRating', 'TotalVisits', 'VisitModeVariety', 'VisitYearSpan']\n",
    "scaler = StandardScaler()\n",
    "df[num_cols] = scaler.fit_transform(df[num_cols])\n",
    "\n",
    "print(\"✅ Preprocessing completed successfully!\\n\")\n",
    "print(\"Sample rows:\")\n",
    "print(df.head())\n"
   ]
  },
  {
   "cell_type": "code",
   "execution_count": 181,
   "id": "5ef94d2f",
   "metadata": {},
   "outputs": [],
   "source": [
    "# EDA"
   ]
  },
  {
   "cell_type": "code",
   "execution_count": 82,
   "id": "a2eda721",
   "metadata": {},
   "outputs": [
    {
     "data": {
      "image/png": "[encoded data removed]",
      "text/plain": [
       "<Figure size 1800x500 with 3 Axes>"
      ]
     },
     "metadata": {},
     "output_type": "display_data"
    }
   ],
   "source": [
    "# 1. User Distribution across Continent, Country, Region\n",
    "fig, axs = plt.subplots(1, 3, figsize=(18, 5))\n",
    "\n",
    "sns.countplot(data=combined_df, x='Continent', ax=axs[0], order=combined_df['Continent'].value_counts().index)\n",
    "axs[0].set_title('User Distribution by Continent')\n",
    "axs[0].tick_params(axis='x', rotation=45)\n",
    "\n",
    "sns.countplot(data=combined_df, x='Country', ax=axs[1], order=combined_df['Country'].value_counts().index[:10])\n",
    "axs[1].set_title('Top 10 Countries by User Count')\n",
    "axs[1].tick_params(axis='x', rotation=90)\n",
    "\n",
    "sns.countplot(data=combined_df, x='Region', ax=axs[2], order=combined_df['Region'].value_counts().index[:10])\n",
    "axs[2].set_title('Top 10 Regions by User Count')\n",
    "axs[2].tick_params(axis='x', rotation=90)\n",
    "\n",
    "plt.tight_layout()\n",
    "plt.show()"
   ]
  },
  {
   "cell_type": "code",
   "execution_count": 182,
   "id": "6f0897e8",
   "metadata": {},
   "outputs": [
    {
     "data": {
      "image/png": "[encoded data removed]",
      "text/plain": [
       "<Figure size 1200x600 with 1 Axes>"
      ]
     },
     "metadata": {},
     "output_type": "display_data"
    }
   ],
   "source": [
    "# 2. Explore attraction types and their popularity based on user ratings.\n",
    "plt.figure(figsize=(12, 6))\n",
    "attraction_rating = combined_df.groupby('AttractionType')['Rating'].mean().sort_values(ascending=False).head(10)\n",
    "sns.barplot(x=attraction_rating.index, y=attraction_rating.values)\n",
    "plt.title('Top 10 Attraction Types by Average Rating')\n",
    "plt.xlabel('Attraction Type')\n",
    "plt.ylabel('Average Rating')\n",
    "plt.xticks(rotation=45)\n",
    "plt.tight_layout()\n",
    "plt.show()\n"
   ]
  },
  {
   "cell_type": "code",
   "execution_count": 183,
   "id": "a2e35873",
   "metadata": {},
   "outputs": [
    {
     "data": {
      "image/png": "[encoded data removed]",
      "text/plain": [
       "<Figure size 1200x600 with 1 Axes>"
      ]
     },
     "metadata": {},
     "output_type": "display_data"
    }
   ],
   "source": [
    "# Investigate correlation between VisitMode and user demographics to identify patterns.\n",
    "\n",
    "plt.figure(figsize=(12, 6))\n",
    "top_countries = combined_df['Country'].value_counts().nlargest(6).index\n",
    "subset = combined_df[combined_df['Country'].isin(top_countries)]\n",
    "sns.countplot(data=subset, x='Country', hue='VisitMode')\n",
    "plt.title('VisitMode Distribution by Country')\n",
    "plt.xlabel('Country')\n",
    "plt.ylabel('Count')\n",
    "plt.legend(title='Visit Mode')\n",
    "plt.xticks(rotation=45)\n",
    "plt.tight_layout()\n",
    "plt.show()"
   ]
  },
  {
   "cell_type": "code",
   "execution_count": 184,
   "id": "85ed1480",
   "metadata": {},
   "outputs": [
    {
     "data": {
      "image/png": "[encoded data removed]",
      "text/plain": [
       "<Figure size 1000x600 with 1 Axes>"
      ]
     },
     "metadata": {},
     "output_type": "display_data"
    }
   ],
   "source": [
    "#Analyze distribution of ratings across different attractions and regions.\n",
    "sns.set(style=\"whitegrid\")\n",
    "\n",
    "\n",
    "attraction_ratings = combined_df.groupby('Attraction').agg({\n",
    "    'Rating': ['mean', 'count']\n",
    "}).reset_index()\n",
    "attraction_ratings.columns = ['Attraction', 'AvgRating', 'NumRatings']\n",
    "\n",
    "attraction_ratings_filtered = attraction_ratings[attraction_ratings['NumRatings'] >= 20]\n",
    "\n",
    "plt.figure(figsize=(10, 6))\n",
    "sns.histplot(attraction_ratings_filtered['AvgRating'], bins=20, kde=True, color='skyblue')\n",
    "plt.title('Distribution of Average Ratings per Attraction')\n",
    "plt.xlabel('Average Rating')\n",
    "plt.ylabel('Number of Attractions')\n",
    "plt.tight_layout()\n",
    "plt.show()\n",
    "\n",
    "\n"
   ]
  },
  {
   "cell_type": "code",
   "execution_count": 185,
   "id": "34e1d8ce",
   "metadata": {},
   "outputs": [
    {
     "name": "stderr",
     "output_type": "stream",
     "text": [
      "C:\\Users\\Ranjitha\\AppData\\Local\\Temp\\ipykernel_3824\\2827637697.py:6: FutureWarning: \n",
      "\n",
      "Passing `palette` without assigning `hue` is deprecated and will be removed in v0.14.0. Assign the `x` variable to `hue` and set `legend=False` for the same effect.\n",
      "\n",
      "  sns.boxplot(data=top_rated_df, x='Attraction', y='Rating', palette='Pastel1')\n"
     ]
    },
    {
     "data": {
      "image/png": "[encoded data removed]",
      "text/plain": [
       "<Figure size 1200x600 with 1 Axes>"
      ]
     },
     "metadata": {},
     "output_type": "display_data"
    }
   ],
   "source": [
    "#  Boxplot of Ratings by Top 10 Attractions (most rated)\n",
    "top_attractions = combined_df['Attraction'].value_counts().head(10).index\n",
    "top_rated_df = combined_df[combined_df['Attraction'].isin(top_attractions)]\n",
    "\n",
    "plt.figure(figsize=(12, 6))\n",
    "sns.boxplot(data=top_rated_df, x='Attraction', y='Rating', palette='Pastel1')\n",
    "plt.title(\"Rating Distribution for Top 10 Most Rated Attractions\")\n",
    "plt.xticks(rotation=45)\n",
    "plt.tight_layout()\n",
    "plt.show()"
   ]
  },
  {
   "cell_type": "code",
   "execution_count": 186,
   "id": "24a6e1eb",
   "metadata": {},
   "outputs": [
    {
     "name": "stderr",
     "output_type": "stream",
     "text": [
      "C:\\Users\\Ranjitha\\AppData\\Local\\Temp\\ipykernel_3824\\2635246816.py:6: FutureWarning: \n",
      "\n",
      "Passing `palette` without assigning `hue` is deprecated and will be removed in v0.14.0. Assign the `x` variable to `hue` and set `legend=False` for the same effect.\n",
      "\n",
      "  sns.boxplot(data=top_region_df, x='Region', y='Rating', palette='Set2')\n"
     ]
    },
    {
     "data": {
      "image/png": "[encoded data removed]",
      "text/plain": [
       "<Figure size 1200x600 with 1 Axes>"
      ]
     },
     "metadata": {},
     "output_type": "display_data"
    }
   ],
   "source": [
    "#  Boxplot of Ratings by Top 10 Regions\n",
    "top_regions = combined_df['Region'].value_counts().head(10).index\n",
    "top_region_df = combined_df[combined_df['Region'].isin(top_regions)]\n",
    "\n",
    "plt.figure(figsize=(12, 6))\n",
    "sns.boxplot(data=top_region_df, x='Region', y='Rating', palette='Set2')\n",
    "plt.title(\"Rating Distribution Across Top 10 Regions\")\n",
    "plt.xticks(rotation=45)\n",
    "plt.tight_layout()\n",
    "plt.show()\n",
    "\n"
   ]
  },
  {
   "cell_type": "code",
   "execution_count": 187,
   "id": "5cc8c3de",
   "metadata": {},
   "outputs": [
    {
     "name": "stderr",
     "output_type": "stream",
     "text": [
      "C:\\Users\\Ranjitha\\AppData\\Local\\Temp\\ipykernel_3824\\582021081.py:6: FutureWarning: \n",
      "\n",
      "Passing `palette` without assigning `hue` is deprecated and will be removed in v0.14.0. Assign the `x` variable to `hue` and set `legend=False` for the same effect.\n",
      "\n",
      "  sns.boxplot(data=top_region_df, x='Region', y='Rating', palette='Set2')\n"
     ]
    },
    {
     "data": {
      "image/png": "[encoded data removed]",
      "text/plain": [
       "<Figure size 1200x600 with 1 Axes>"
      ]
     },
     "metadata": {},
     "output_type": "display_data"
    },
    {
     "name": "stderr",
     "output_type": "stream",
     "text": [
      "C:\\Users\\Ranjitha\\AppData\\Local\\Temp\\ipykernel_3824\\582021081.py:14: FutureWarning: \n",
      "\n",
      "Passing `palette` without assigning `hue` is deprecated and will be removed in v0.14.0. Assign the `x` variable to `hue` and set `legend=False` for the same effect.\n",
      "\n",
      "  sns.violinplot(data=top_region_df, x='Region', y='Rating', palette='coolwarm')\n"
     ]
    },
    {
     "data": {
      "image/png": "[encoded data removed]",
      "text/plain": [
       "<Figure size 1200x600 with 1 Axes>"
      ]
     },
     "metadata": {},
     "output_type": "display_data"
    }
   ],
   "source": [
    "# Boxplot of Ratings by Top 10 Regions\n",
    "top_regions = combined_df['Region'].value_counts().head(10).index\n",
    "top_region_df = combined_df[combined_df['Region'].isin(top_regions)]\n",
    "\n",
    "plt.figure(figsize=(12, 6))\n",
    "sns.boxplot(data=top_region_df, x='Region', y='Rating', palette='Set2')\n",
    "plt.title(\"Rating Distribution Across Top 10 Regions\")\n",
    "plt.xticks(rotation=45)\n",
    "plt.tight_layout()\n",
    "plt.show()\n",
    "\n",
    "# 4. Violin Plot (Optional - visualizing distribution shape by region)\n",
    "plt.figure(figsize=(12, 6))\n",
    "sns.violinplot(data=top_region_df, x='Region', y='Rating', palette='coolwarm')\n",
    "plt.title(\"Violin Plot of Ratings by Region\")\n",
    "plt.xticks(rotation=45)\n",
    "plt.tight_layout()\n",
    "plt.show()"
   ]
  },
  {
   "cell_type": "code",
   "execution_count": 188,
   "id": "45505317",
   "metadata": {},
   "outputs": [],
   "source": [
    "# MODEL TRAINING"
   ]
  },
  {
   "cell_type": "code",
   "execution_count": 189,
   "id": "66b053ea",
   "metadata": {},
   "outputs": [
    {
     "name": "stdout",
     "output_type": "stream",
     "text": [
      "R² Score: 0.007370829106958743\n",
      "MSE: 0.9348742268322292\n"
     ]
    }
   ],
   "source": [
    "#Regression Task:\n",
    "df = combined_df.copy()\n",
    "\n",
    "df = df.dropna(subset=['Rating'])\n",
    "\n",
    "X = df[['Continent', 'Country', 'Region', 'VisitMode', 'VisitYear', 'VisitMonth', 'AttractionType']]\n",
    "y = df['Rating']\n",
    "\n",
    "preprocessor = ColumnTransformer([\n",
    "    ('cat', OneHotEncoder(handle_unknown='ignore'), ['Continent', 'Country', 'Region', 'VisitMode', 'AttractionType'])\n",
    "], remainder='passthrough')  # Leave numerical columns (VisitYear, VisitMonth) as is\n",
    "\n",
    "model = Pipeline([\n",
    "    ('prep', preprocessor),\n",
    "    ('reg', RandomForestRegressor())\n",
    "])\n",
    "\n",
    "X_train, X_test, y_train, y_test = train_test_split(X, y, test_size=0.2, random_state=42)\n",
    "\n",
    "model.fit(X_train, y_train)\n",
    "\n",
    "y_pred = model.predict(X_test)\n",
    "print(\"R² Score:\", r2_score(y_test, y_pred))\n",
    "print(\"MSE:\", mean_squared_error(y_test, y_pred))"
   ]
  },
  {
   "cell_type": "code",
   "execution_count": 191,
   "id": "f98ade9a",
   "metadata": {},
   "outputs": [
    {
     "name": "stdout",
     "output_type": "stream",
     "text": [
      "              precision    recall  f1-score   support\n",
      "\n",
      "           1       0.00      0.00      0.00       198\n",
      "           2       0.42      0.81      0.56      6472\n",
      "           3       0.40      0.29      0.34      4598\n",
      "           4       0.22      0.01      0.02      3244\n",
      "           5       0.12      0.00      0.00      1365\n",
      "    Business       0.00      0.00      0.00         1\n",
      "     Friends       0.00      0.00      0.00         1\n",
      "\n",
      "    accuracy                           0.42     15879\n",
      "   macro avg       0.17      0.16      0.13     15879\n",
      "weighted avg       0.34      0.42      0.33     15879\n",
      "\n"
     ]
    },
    {
     "name": "stderr",
     "output_type": "stream",
     "text": [
      "C:\\Users\\Ranjitha\\AppData\\Roaming\\Python\\Python313\\site-packages\\sklearn\\metrics\\_classification.py:1706: UndefinedMetricWarning: Precision is ill-defined and being set to 0.0 in labels with no predicted samples. Use `zero_division` parameter to control this behavior.\n",
      "  _warn_prf(average, modifier, f\"{metric.capitalize()} is\", result.shape[0])\n",
      "C:\\Users\\Ranjitha\\AppData\\Roaming\\Python\\Python313\\site-packages\\sklearn\\metrics\\_classification.py:1706: UndefinedMetricWarning: Precision is ill-defined and being set to 0.0 in labels with no predicted samples. Use `zero_division` parameter to control this behavior.\n",
      "  _warn_prf(average, modifier, f\"{metric.capitalize()} is\", result.shape[0])\n",
      "C:\\Users\\Ranjitha\\AppData\\Roaming\\Python\\Python313\\site-packages\\sklearn\\metrics\\_classification.py:1706: UndefinedMetricWarning: Precision is ill-defined and being set to 0.0 in labels with no predicted samples. Use `zero_division` parameter to control this behavior.\n",
      "  _warn_prf(average, modifier, f\"{metric.capitalize()} is\", result.shape[0])\n"
     ]
    }
   ],
   "source": [
    "# Classification Task:\n",
    "df = combined_df.copy()\n",
    "\n",
    "df = df.dropna(subset=['VisitMode'])\n",
    "\n",
    "X = df[['Continent', 'Country', 'Region', 'VisitYear', 'VisitMonth', 'AttractionType', 'Rating']]\n",
    "y = df['VisitMode']\n",
    "\n",
    "preprocessor = ColumnTransformer([\n",
    "    ('cat', OneHotEncoder(handle_unknown='ignore'), ['Continent', 'Country', 'Region', 'AttractionType'])\n",
    "], remainder='passthrough')  # keep numerical columns (VisitYear, VisitMonth, Rating)\n",
    "\n",
    "clf = Pipeline([\n",
    "    ('prep', preprocessor),\n",
    "    ('model', RandomForestClassifier(random_state=42))\n",
    "])\n",
    "\n",
    "X_train, X_test, y_train, y_test = train_test_split(X, y, test_size=0.3, random_state=42)\n",
    "\n",
    "clf.fit(X_train, y_train)\n",
    "\n",
    "y_pred = clf.predict(X_test)\n",
    "print(classification_report(y_test, y_pred))"
   ]
  },
  {
   "cell_type": "code",
   "execution_count": null,
   "id": "f3afe3aa",
   "metadata": {},
   "outputs": [],
   "source": [
    "# REGRESSION TASK"
   ]
  },
  {
   "cell_type": "code",
   "execution_count": null,
   "id": "fc7419a4",
   "metadata": {},
   "outputs": [],
   "source": [
    "# Collaborative Filtering (User-Based)\n",
    "user_item = combined_df.pivot_table(index='UserId', columns='Attraction', values='Rating')\n",
    "user_item_filled = user_item.fillna(0)\n",
    "user_item_sparse = csr_matrix(user_item_filled.values)\n",
    "\n",
    "def user_based_recommender(user_id, top_n=5):\n",
    "    if user_id not in user_item_filled.index:\n",
    "        return f\"User {user_id} not found.\"\n",
    "    \n",
    "    \n",
    "    user_idx = user_item_filled.index.get_loc(user_id)\n",
    "    \n",
    "    user_vector = user_item_sparse[user_idx]\n",
    "    user_sim = cosine_similarity(user_vector, user_item_sparse).flatten()\n",
    "\n",
    "   \n",
    "    similar_users_idx = user_sim.argsort()[::-1][1:]\n",
    "    similar_users_weights = user_sim[similar_users_idx]\n",
    "\n",
    "    similar_user_ids = user_item_filled.index[similar_users_idx]\n",
    "\n",
    "    weighted_sum = user_item_filled.loc[similar_user_ids].T.dot(similar_users_weights)\n",
    "    normalization = user_item_filled.loc[similar_user_ids].notna().T.dot(similar_users_weights)\n",
    "    scores = weighted_sum / normalization\n",
    "    scores = pd.Series(scores, index=user_item_filled.columns)\n",
    "\n",
    "    rated = user_item.loc[user_id].dropna().index\n",
    "    scores = scores.drop(index=rated, errors='ignore').sort_values(ascending=False).head(top_n)\n",
    "    return scores.dropna()\n",
    "\n"
   ]
  },
  {
   "cell_type": "code",
   "execution_count": 193,
   "id": "2aa679f6",
   "metadata": {},
   "outputs": [
    {
     "name": "stdout",
     "output_type": "stream",
     "text": [
      "Attraction\n",
      "Uluwatu Temple                        0.077749\n",
      "Tegalalang Rice Terrace               0.063359\n",
      "Tanah Lot Temple                      0.055348\n",
      "Sacred Monkey Forest Sanctuary        0.054171\n",
      "Bromo Tengger Semeru National Park    0.045978\n",
      "dtype: float64\n"
     ]
    }
   ],
   "source": [
    "recommendations = user_based_recommender(user_id=10234, top_n=5)\n",
    "print(recommendations)\n"
   ]
  },
  {
   "cell_type": "code",
   "execution_count": 194,
   "id": "d6fbf551",
   "metadata": {},
   "outputs": [],
   "source": [
    "# Content-Based Filtering\n",
    "combined_df['content'] = combined_df['AttractionType'].astype(str) + \" \" + \\\n",
    "                         combined_df['Region'].astype(str) + \" \" + \\\n",
    "                         combined_df['Country'].astype(str)\n",
    "\n",
    "\n",
    "attraction_content = combined_df[['Attraction', 'content']].drop_duplicates(subset='Attraction')\n",
    "\n",
    "\n",
    "tfidf = TfidfVectorizer(stop_words='english')\n",
    "tfidf_matrix = tfidf.fit_transform(attraction_content['content'])\n",
    "\n",
    "\n",
    "cos_sim = linear_kernel(tfidf_matrix, tfidf_matrix)\n",
    "indices = pd.Series(attraction_content.index, index=attraction_content['Attraction'])\n",
    "\n",
    "def content_based_recommender(attraction_name, top_n=5):\n",
    "    if attraction_name not in indices:\n",
    "        return f\"Attraction '{attraction_name}' not found.\"\n",
    "    idx = indices[attraction_name]\n",
    "    sim_scores = list(enumerate(cos_sim[idx]))\n",
    "    sim_scores = sorted(sim_scores, key=lambda x: x[1], reverse=True)[1:top_n+1]\n",
    "    attraction_indices = [i[0] for i in sim_scores]\n",
    "    return attraction_content.iloc[attraction_indices]['Attraction']\n"
   ]
  },
  {
   "cell_type": "code",
   "execution_count": 195,
   "id": "d03e0f60",
   "metadata": {},
   "outputs": [
    {
     "data": {
      "text/plain": [
       "\"Attraction 'Louvre Museum' not found.\""
      ]
     },
     "execution_count": 195,
     "metadata": {},
     "output_type": "execute_result"
    }
   ],
   "source": [
    "content_based_recommender(\"Louvre Museum\")\n"
   ]
  },
  {
   "cell_type": "code",
   "execution_count": 196,
   "id": "9ed6f700",
   "metadata": {},
   "outputs": [],
   "source": [
    "# (Optional) Hybrid Recommender\n",
    "def hybrid_recommender(user_id, attraction_name, top_n=5):\n",
    "    user_recs = user_based_recommender(user_id, top_n * 2)\n",
    "    content_recs = content_based_recommender(attraction_name, top_n * 2)\n",
    "\n",
    "    hybrid_scores = pd.Series(dtype='float64')\n",
    "    if isinstance(user_recs, pd.Series):\n",
    "        hybrid_scores = user_recs.copy()\n",
    "        for attraction in content_recs:\n",
    "            if attraction in hybrid_scores:\n",
    "                hybrid_scores[attraction] += 0.5\n",
    "            else:\n",
    "                hybrid_scores[attraction] = 0.5\n",
    "        return hybrid_scores.sort_values(ascending=False).head(top_n)\n",
    "    return content_recs.head(top_n)\n"
   ]
  },
  {
   "cell_type": "code",
   "execution_count": 197,
   "id": "f5e229f3",
   "metadata": {},
   "outputs": [
    {
     "data": {
      "text/plain": [
       "Attraction\n",
       "t    2.0\n",
       "o    2.0\n",
       "     2.0\n",
       "u    2.0\n",
       "n    1.5\n",
       "dtype: float64"
      ]
     },
     "execution_count": 197,
     "metadata": {},
     "output_type": "execute_result"
    }
   ],
   "source": [
    "hybrid_recommender(user_id=10234, attraction_name=\"Louvre Museum\")\n"
   ]
  },
  {
   "cell_type": "code",
   "execution_count": 98,
   "id": "1695e433",
   "metadata": {},
   "outputs": [],
   "source": [
    "# EVALUATION"
   ]
  },
  {
   "cell_type": "code",
   "execution_count": 198,
   "id": "6cb39332",
   "metadata": {},
   "outputs": [
    {
     "name": "stdout",
     "output_type": "stream",
     "text": [
      "Accuracy: 0.417406637697588\n",
      "Precision (macro): 0.16641068867624245\n",
      "Recall (macro): 0.15936625689624648\n",
      "F1-score (macro): 0.13120721507742367\n"
     ]
    },
    {
     "name": "stderr",
     "output_type": "stream",
     "text": [
      "C:\\Users\\Ranjitha\\AppData\\Roaming\\Python\\Python313\\site-packages\\sklearn\\metrics\\_classification.py:1706: UndefinedMetricWarning: Precision is ill-defined and being set to 0.0 in labels with no predicted samples. Use `zero_division` parameter to control this behavior.\n",
      "  _warn_prf(average, modifier, f\"{metric.capitalize()} is\", result.shape[0])\n",
      "C:\\Users\\Ranjitha\\AppData\\Roaming\\Python\\Python313\\site-packages\\sklearn\\metrics\\_classification.py:1706: UndefinedMetricWarning: Precision is ill-defined and being set to 0.0 in labels with no predicted samples. Use `zero_division` parameter to control this behavior.\n",
      "  _warn_prf(average, modifier, f\"{metric.capitalize()} is\", result.shape[0])\n",
      "C:\\Users\\Ranjitha\\AppData\\Roaming\\Python\\Python313\\site-packages\\sklearn\\metrics\\_classification.py:1706: UndefinedMetricWarning: Precision is ill-defined and being set to 0.0 in labels with no predicted samples. Use `zero_division` parameter to control this behavior.\n",
      "  _warn_prf(average, modifier, f\"{metric.capitalize()} is\", result.shape[0])\n"
     ]
    },
    {
     "name": "stdout",
     "output_type": "stream",
     "text": [
      "\n",
      "Full classification report:\n",
      "               precision    recall  f1-score   support\n",
      "\n",
      "           1       0.00      0.00      0.00       198\n",
      "           2       0.42      0.81      0.56      6472\n",
      "           3       0.40      0.29      0.34      4598\n",
      "           4       0.22      0.01      0.02      3244\n",
      "           5       0.12      0.00      0.00      1365\n",
      "    Business       0.00      0.00      0.00         1\n",
      "     Friends       0.00      0.00      0.00         1\n",
      "\n",
      "    accuracy                           0.42     15879\n",
      "   macro avg       0.17      0.16      0.13     15879\n",
      "weighted avg       0.34      0.42      0.33     15879\n",
      "\n"
     ]
    },
    {
     "name": "stderr",
     "output_type": "stream",
     "text": [
      "C:\\Users\\Ranjitha\\AppData\\Roaming\\Python\\Python313\\site-packages\\sklearn\\metrics\\_classification.py:1706: UndefinedMetricWarning: Precision is ill-defined and being set to 0.0 in labels with no predicted samples. Use `zero_division` parameter to control this behavior.\n",
      "  _warn_prf(average, modifier, f\"{metric.capitalize()} is\", result.shape[0])\n"
     ]
    }
   ],
   "source": [
    "# Evaluate classification model performance using accuracy, precision, recall, and F1-score.\n",
    "y_pred = clf.predict(X_test)\n",
    "\n",
    "print(\"Accuracy:\", accuracy_score(y_test, y_pred))\n",
    "print(\"Precision (macro):\", precision_score(y_test, y_pred, average='macro'))\n",
    "print(\"Recall (macro):\", recall_score(y_test, y_pred, average='macro'))\n",
    "print(\"F1-score (macro):\", f1_score(y_test, y_pred, average='macro'))\n",
    "print(\"\\nFull classification report:\\n\", classification_report(y_test, y_pred))\n"
   ]
  },
  {
   "cell_type": "code",
   "execution_count": 190,
   "id": "9cbc8ebf",
   "metadata": {},
   "outputs": [
    {
     "name": "stdout",
     "output_type": "stream",
     "text": [
      "R² Score: 0.007370829106958743\n",
      "MSE: 0.9348742268322292\n",
      "RMSE: 0.966888942346653\n",
      "MAE: 0.7532997434040956\n"
     ]
    }
   ],
   "source": [
    "# Evaluate regression model using R2, MSE, etc.\n",
    "from sklearn.metrics import r2_score, mean_squared_error, mean_absolute_error\n",
    "import numpy as np\n",
    "\n",
    "y_pred = model.predict(X_test)\n",
    "\n",
    "print(\"R² Score:\", r2_score(y_test, y_pred))\n",
    "print(\"MSE:\", mean_squared_error(y_test, y_pred))\n",
    "print(\"RMSE:\", np.sqrt(mean_squared_error(y_test, y_pred)))\n",
    "print(\"MAE:\", mean_absolute_error(y_test, y_pred))\n"
   ]
  },
  {
   "cell_type": "code",
   "execution_count": 209,
   "id": "ca60357f",
   "metadata": {},
   "outputs": [],
   "source": [
    "#FOR STREAMLIT USE PURPOSE"
   ]
  },
  {
   "cell_type": "code",
   "execution_count": 199,
   "id": "4881860c",
   "metadata": {},
   "outputs": [],
   "source": [
    "# FILE PATH\n",
    "combined_df.to_csv(r\"C:\\Users\\Ranjitha\\OneDrive\\Documents\\Tourism_Project.csv\", index=False)"
   ]
  },
  {
   "cell_type": "code",
   "execution_count": 200,
   "id": "ddfdb65e",
   "metadata": {},
   "outputs": [
    {
     "data": {
      "text/html": [
       "<div>\n",
       "<style scoped>\n",
       "    .dataframe tbody tr th:only-of-type {\n",
       "        vertical-align: middle;\n",
       "    }\n",
       "\n",
       "    .dataframe tbody tr th {\n",
       "        vertical-align: top;\n",
       "    }\n",
       "\n",
       "    .dataframe thead th {\n",
       "        text-align: right;\n",
       "    }\n",
       "</style>\n",
       "<table border=\"1\" class=\"dataframe\">\n",
       "  <thead>\n",
       "    <tr style=\"text-align: right;\">\n",
       "      <th></th>\n",
       "      <th>Continent</th>\n",
       "      <th>AttractionCityId</th>\n",
       "      <th>VisitModeId</th>\n",
       "      <th>Region</th>\n",
       "      <th>TransactionId</th>\n",
       "      <th>VisitMonth</th>\n",
       "      <th>Country</th>\n",
       "      <th>CityName</th>\n",
       "      <th>Rating</th>\n",
       "      <th>VisitYear</th>\n",
       "      <th>...</th>\n",
       "      <th>CountryId</th>\n",
       "      <th>ContinentId</th>\n",
       "      <th>RegionId</th>\n",
       "      <th>AttractionId</th>\n",
       "      <th>AttractionTypeId</th>\n",
       "      <th>Attraction</th>\n",
       "      <th>AttractionAddress</th>\n",
       "      <th>UserId</th>\n",
       "      <th>VisitMode</th>\n",
       "      <th>content</th>\n",
       "    </tr>\n",
       "  </thead>\n",
       "  <tbody>\n",
       "    <tr>\n",
       "      <th>0</th>\n",
       "      <td>-</td>\n",
       "      <td>1</td>\n",
       "      <td>0</td>\n",
       "      <td>-</td>\n",
       "      <td>3</td>\n",
       "      <td>10</td>\n",
       "      <td>-</td>\n",
       "      <td>-</td>\n",
       "      <td>5</td>\n",
       "      <td>2022</td>\n",
       "      <td>...</td>\n",
       "      <td>0</td>\n",
       "      <td>0</td>\n",
       "      <td>0</td>\n",
       "      <td>369</td>\n",
       "      <td>13</td>\n",
       "      <td>Kuta Beach - Bali</td>\n",
       "      <td>Kuta</td>\n",
       "      <td>70456</td>\n",
       "      <td>-</td>\n",
       "      <td>Ancient Ruins - -</td>\n",
       "    </tr>\n",
       "    <tr>\n",
       "      <th>1</th>\n",
       "      <td>Africa</td>\n",
       "      <td>1</td>\n",
       "      <td>1</td>\n",
       "      <td>Central Africa</td>\n",
       "      <td>8</td>\n",
       "      <td>10</td>\n",
       "      <td>Cameroon</td>\n",
       "      <td>Douala</td>\n",
       "      <td>5</td>\n",
       "      <td>2022</td>\n",
       "      <td>...</td>\n",
       "      <td>1</td>\n",
       "      <td>1</td>\n",
       "      <td>1</td>\n",
       "      <td>481</td>\n",
       "      <td>13</td>\n",
       "      <td>Nusa Dua Beach</td>\n",
       "      <td>Semenanjung Nusa Dua, Nusa Dua 80517 Indonesia</td>\n",
       "      <td>7567</td>\n",
       "      <td>Business</td>\n",
       "      <td>Ballets Central Africa Cameroon</td>\n",
       "    </tr>\n",
       "    <tr>\n",
       "      <th>2</th>\n",
       "      <td>America</td>\n",
       "      <td>1</td>\n",
       "      <td>2</td>\n",
       "      <td>East Africa</td>\n",
       "      <td>9</td>\n",
       "      <td>10</td>\n",
       "      <td>Chad</td>\n",
       "      <td>South Region</td>\n",
       "      <td>5</td>\n",
       "      <td>2022</td>\n",
       "      <td>...</td>\n",
       "      <td>1</td>\n",
       "      <td>2</td>\n",
       "      <td>1</td>\n",
       "      <td>640</td>\n",
       "      <td>63</td>\n",
       "      <td>Sacred Monkey Forest Sanctuary</td>\n",
       "      <td>Jl. Monkey Forest, Ubud 80571 Indonesia</td>\n",
       "      <td>79069</td>\n",
       "      <td>Couples</td>\n",
       "      <td>Beaches East Africa Chad</td>\n",
       "    </tr>\n",
       "    <tr>\n",
       "      <th>3</th>\n",
       "      <td>Asia</td>\n",
       "      <td>1</td>\n",
       "      <td>3</td>\n",
       "      <td>North Africa</td>\n",
       "      <td>10</td>\n",
       "      <td>10</td>\n",
       "      <td>Rwanda</td>\n",
       "      <td>N'Djamena</td>\n",
       "      <td>3</td>\n",
       "      <td>2022</td>\n",
       "      <td>...</td>\n",
       "      <td>2</td>\n",
       "      <td>3</td>\n",
       "      <td>1</td>\n",
       "      <td>650</td>\n",
       "      <td>13</td>\n",
       "      <td>Sanur Beach</td>\n",
       "      <td>Sanur</td>\n",
       "      <td>31019</td>\n",
       "      <td>Family</td>\n",
       "      <td>Caverns &amp; Caves North Africa Rwanda</td>\n",
       "    </tr>\n",
       "    <tr>\n",
       "      <th>4</th>\n",
       "      <td>Australia &amp; Oceania</td>\n",
       "      <td>1</td>\n",
       "      <td>4</td>\n",
       "      <td>Southern Africa</td>\n",
       "      <td>15</td>\n",
       "      <td>10</td>\n",
       "      <td>Ethiopia</td>\n",
       "      <td>Kigali</td>\n",
       "      <td>3</td>\n",
       "      <td>2022</td>\n",
       "      <td>...</td>\n",
       "      <td>3</td>\n",
       "      <td>4</td>\n",
       "      <td>2</td>\n",
       "      <td>673</td>\n",
       "      <td>13</td>\n",
       "      <td>Seminyak Beach</td>\n",
       "      <td>Seminyak</td>\n",
       "      <td>43611</td>\n",
       "      <td>Friends</td>\n",
       "      <td>Flea &amp; Street Markets Southern Africa Ethiopia</td>\n",
       "    </tr>\n",
       "    <tr>\n",
       "      <th>...</th>\n",
       "      <td>...</td>\n",
       "      <td>...</td>\n",
       "      <td>...</td>\n",
       "      <td>...</td>\n",
       "      <td>...</td>\n",
       "      <td>...</td>\n",
       "      <td>...</td>\n",
       "      <td>...</td>\n",
       "      <td>...</td>\n",
       "      <td>...</td>\n",
       "      <td>...</td>\n",
       "      <td>...</td>\n",
       "      <td>...</td>\n",
       "      <td>...</td>\n",
       "      <td>...</td>\n",
       "      <td>...</td>\n",
       "      <td>...</td>\n",
       "      <td>...</td>\n",
       "      <td>...</td>\n",
       "      <td>...</td>\n",
       "      <td>...</td>\n",
       "    </tr>\n",
       "    <tr>\n",
       "      <th>52925</th>\n",
       "      <td>Unknown</td>\n",
       "      <td>-1</td>\n",
       "      <td>-1</td>\n",
       "      <td>Unknown</td>\n",
       "      <td>211227</td>\n",
       "      <td>9</td>\n",
       "      <td>Unknown</td>\n",
       "      <td>Unknown</td>\n",
       "      <td>4</td>\n",
       "      <td>2018</td>\n",
       "      <td>...</td>\n",
       "      <td>-1</td>\n",
       "      <td>-1</td>\n",
       "      <td>-1</td>\n",
       "      <td>1297</td>\n",
       "      <td>-1</td>\n",
       "      <td>Yogyakarta Palace</td>\n",
       "      <td>Yogyakarta</td>\n",
       "      <td>87100</td>\n",
       "      <td>2</td>\n",
       "      <td>Unknown Unknown Unknown</td>\n",
       "    </tr>\n",
       "    <tr>\n",
       "      <th>52926</th>\n",
       "      <td>Unknown</td>\n",
       "      <td>-1</td>\n",
       "      <td>-1</td>\n",
       "      <td>Unknown</td>\n",
       "      <td>211238</td>\n",
       "      <td>2</td>\n",
       "      <td>Unknown</td>\n",
       "      <td>Unknown</td>\n",
       "      <td>5</td>\n",
       "      <td>2016</td>\n",
       "      <td>...</td>\n",
       "      <td>-1</td>\n",
       "      <td>-1</td>\n",
       "      <td>-1</td>\n",
       "      <td>1297</td>\n",
       "      <td>-1</td>\n",
       "      <td>Yogyakarta Palace</td>\n",
       "      <td>Yogyakarta</td>\n",
       "      <td>88112</td>\n",
       "      <td>2</td>\n",
       "      <td>Unknown Unknown Unknown</td>\n",
       "    </tr>\n",
       "    <tr>\n",
       "      <th>52927</th>\n",
       "      <td>Unknown</td>\n",
       "      <td>-1</td>\n",
       "      <td>-1</td>\n",
       "      <td>Unknown</td>\n",
       "      <td>211239</td>\n",
       "      <td>2</td>\n",
       "      <td>Unknown</td>\n",
       "      <td>Unknown</td>\n",
       "      <td>4</td>\n",
       "      <td>2016</td>\n",
       "      <td>...</td>\n",
       "      <td>-1</td>\n",
       "      <td>-1</td>\n",
       "      <td>-1</td>\n",
       "      <td>1297</td>\n",
       "      <td>-1</td>\n",
       "      <td>Yogyakarta Palace</td>\n",
       "      <td>Yogyakarta</td>\n",
       "      <td>88112</td>\n",
       "      <td>2</td>\n",
       "      <td>Unknown Unknown Unknown</td>\n",
       "    </tr>\n",
       "    <tr>\n",
       "      <th>52928</th>\n",
       "      <td>Unknown</td>\n",
       "      <td>-1</td>\n",
       "      <td>-1</td>\n",
       "      <td>Unknown</td>\n",
       "      <td>211240</td>\n",
       "      <td>2</td>\n",
       "      <td>Unknown</td>\n",
       "      <td>Unknown</td>\n",
       "      <td>4</td>\n",
       "      <td>2016</td>\n",
       "      <td>...</td>\n",
       "      <td>-1</td>\n",
       "      <td>-1</td>\n",
       "      <td>-1</td>\n",
       "      <td>1297</td>\n",
       "      <td>-1</td>\n",
       "      <td>Yogyakarta Palace</td>\n",
       "      <td>Yogyakarta</td>\n",
       "      <td>88112</td>\n",
       "      <td>2</td>\n",
       "      <td>Unknown Unknown Unknown</td>\n",
       "    </tr>\n",
       "    <tr>\n",
       "      <th>52929</th>\n",
       "      <td>Unknown</td>\n",
       "      <td>-1</td>\n",
       "      <td>-1</td>\n",
       "      <td>Unknown</td>\n",
       "      <td>211241</td>\n",
       "      <td>2</td>\n",
       "      <td>Unknown</td>\n",
       "      <td>Unknown</td>\n",
       "      <td>5</td>\n",
       "      <td>2016</td>\n",
       "      <td>...</td>\n",
       "      <td>-1</td>\n",
       "      <td>-1</td>\n",
       "      <td>-1</td>\n",
       "      <td>1297</td>\n",
       "      <td>-1</td>\n",
       "      <td>Yogyakarta Palace</td>\n",
       "      <td>Yogyakarta</td>\n",
       "      <td>88112</td>\n",
       "      <td>2</td>\n",
       "      <td>Unknown Unknown Unknown</td>\n",
       "    </tr>\n",
       "  </tbody>\n",
       "</table>\n",
       "<p>52930 rows × 22 columns</p>\n",
       "</div>"
      ],
      "text/plain": [
       "                 Continent  AttractionCityId  VisitModeId           Region  \\\n",
       "0                        -                 1            0                -   \n",
       "1                   Africa                 1            1   Central Africa   \n",
       "2                  America                 1            2      East Africa   \n",
       "3                     Asia                 1            3     North Africa   \n",
       "4      Australia & Oceania                 1            4  Southern Africa   \n",
       "...                    ...               ...          ...              ...   \n",
       "52925              Unknown                -1           -1          Unknown   \n",
       "52926              Unknown                -1           -1          Unknown   \n",
       "52927              Unknown                -1           -1          Unknown   \n",
       "52928              Unknown                -1           -1          Unknown   \n",
       "52929              Unknown                -1           -1          Unknown   \n",
       "\n",
       "       TransactionId  VisitMonth   Country      CityName  Rating  VisitYear  \\\n",
       "0                  3          10         -             -       5       2022   \n",
       "1                  8          10  Cameroon        Douala       5       2022   \n",
       "2                  9          10      Chad  South Region       5       2022   \n",
       "3                 10          10    Rwanda     N'Djamena       3       2022   \n",
       "4                 15          10  Ethiopia        Kigali       3       2022   \n",
       "...              ...         ...       ...           ...     ...        ...   \n",
       "52925         211227           9   Unknown       Unknown       4       2018   \n",
       "52926         211238           2   Unknown       Unknown       5       2016   \n",
       "52927         211239           2   Unknown       Unknown       4       2016   \n",
       "52928         211240           2   Unknown       Unknown       4       2016   \n",
       "52929         211241           2   Unknown       Unknown       5       2016   \n",
       "\n",
       "       ... CountryId  ContinentId  RegionId  AttractionId  AttractionTypeId  \\\n",
       "0      ...         0            0         0           369                13   \n",
       "1      ...         1            1         1           481                13   \n",
       "2      ...         1            2         1           640                63   \n",
       "3      ...         2            3         1           650                13   \n",
       "4      ...         3            4         2           673                13   \n",
       "...    ...       ...          ...       ...           ...               ...   \n",
       "52925  ...        -1           -1        -1          1297                -1   \n",
       "52926  ...        -1           -1        -1          1297                -1   \n",
       "52927  ...        -1           -1        -1          1297                -1   \n",
       "52928  ...        -1           -1        -1          1297                -1   \n",
       "52929  ...        -1           -1        -1          1297                -1   \n",
       "\n",
       "                           Attraction  \\\n",
       "0                   Kuta Beach - Bali   \n",
       "1                      Nusa Dua Beach   \n",
       "2      Sacred Monkey Forest Sanctuary   \n",
       "3                         Sanur Beach   \n",
       "4                      Seminyak Beach   \n",
       "...                               ...   \n",
       "52925               Yogyakarta Palace   \n",
       "52926               Yogyakarta Palace   \n",
       "52927               Yogyakarta Palace   \n",
       "52928               Yogyakarta Palace   \n",
       "52929               Yogyakarta Palace   \n",
       "\n",
       "                                    AttractionAddress UserId VisitMode  \\\n",
       "0                                                Kuta  70456         -   \n",
       "1      Semenanjung Nusa Dua, Nusa Dua 80517 Indonesia   7567  Business   \n",
       "2             Jl. Monkey Forest, Ubud 80571 Indonesia  79069   Couples   \n",
       "3                                               Sanur  31019    Family   \n",
       "4                                            Seminyak  43611   Friends   \n",
       "...                                               ...    ...       ...   \n",
       "52925                                      Yogyakarta  87100         2   \n",
       "52926                                      Yogyakarta  88112         2   \n",
       "52927                                      Yogyakarta  88112         2   \n",
       "52928                                      Yogyakarta  88112         2   \n",
       "52929                                      Yogyakarta  88112         2   \n",
       "\n",
       "                                              content  \n",
       "0                                   Ancient Ruins - -  \n",
       "1                     Ballets Central Africa Cameroon  \n",
       "2                            Beaches East Africa Chad  \n",
       "3                 Caverns & Caves North Africa Rwanda  \n",
       "4      Flea & Street Markets Southern Africa Ethiopia  \n",
       "...                                               ...  \n",
       "52925                         Unknown Unknown Unknown  \n",
       "52926                         Unknown Unknown Unknown  \n",
       "52927                         Unknown Unknown Unknown  \n",
       "52928                         Unknown Unknown Unknown  \n",
       "52929                         Unknown Unknown Unknown  \n",
       "\n",
       "[52930 rows x 22 columns]"
      ]
     },
     "execution_count": 200,
     "metadata": {},
     "output_type": "execute_result"
    }
   ],
   "source": [
    "combined_df"
   ]
  },
  {
   "cell_type": "code",
   "execution_count": 201,
   "id": "947b49e3",
   "metadata": {},
   "outputs": [
    {
     "data": {
      "text/plain": [
       "Index(['Continent', 'AttractionCityId', 'VisitModeId', 'Region',\n",
       "       'TransactionId', 'VisitMonth', 'Country', 'CityName', 'Rating',\n",
       "       'VisitYear', 'AttractionType', 'CityId', 'CountryId', 'ContinentId',\n",
       "       'RegionId', 'AttractionId', 'AttractionTypeId', 'Attraction',\n",
       "       'AttractionAddress', 'UserId', 'VisitMode', 'content'],\n",
       "      dtype='object')"
      ]
     },
     "execution_count": 201,
     "metadata": {},
     "output_type": "execute_result"
    }
   ],
   "source": [
    "combined_df.columns"
   ]
  },
  {
   "cell_type": "code",
   "execution_count": 204,
   "id": "f866f71c",
   "metadata": {},
   "outputs": [
    {
     "data": {
      "text/plain": [
       "<bound method Series.unique of 0                          -\n",
       "1                     Africa\n",
       "2                    America\n",
       "3                       Asia\n",
       "4        Australia & Oceania\n",
       "                ...         \n",
       "52925                Unknown\n",
       "52926                Unknown\n",
       "52927                Unknown\n",
       "52928                Unknown\n",
       "52929                Unknown\n",
       "Name: Continent, Length: 52930, dtype: object>"
      ]
     },
     "execution_count": 204,
     "metadata": {},
     "output_type": "execute_result"
    }
   ],
   "source": [
    "combined_df[\"Continent\"].unique"
   ]
  },
  {
   "cell_type": "code",
   "execution_count": 205,
   "id": "0255102c",
   "metadata": {},
   "outputs": [
    {
     "data": {
      "text/plain": [
       "<bound method Series.unique of 0               -\n",
       "1        Cameroon\n",
       "2            Chad\n",
       "3          Rwanda\n",
       "4        Ethiopia\n",
       "           ...   \n",
       "52925     Unknown\n",
       "52926     Unknown\n",
       "52927     Unknown\n",
       "52928     Unknown\n",
       "52929     Unknown\n",
       "Name: Country, Length: 52930, dtype: object>"
      ]
     },
     "execution_count": 205,
     "metadata": {},
     "output_type": "execute_result"
    }
   ],
   "source": [
    "combined_df[\"Country\"].unique"
   ]
  },
  {
   "cell_type": "code",
   "execution_count": 207,
   "id": "7f693b9e",
   "metadata": {},
   "outputs": [
    {
     "data": {
      "text/plain": [
       "<bound method Series.unique of 0                   -\n",
       "1              Douala\n",
       "2        South Region\n",
       "3           N'Djamena\n",
       "4              Kigali\n",
       "             ...     \n",
       "52925         Unknown\n",
       "52926         Unknown\n",
       "52927         Unknown\n",
       "52928         Unknown\n",
       "52929         Unknown\n",
       "Name: CityName, Length: 52930, dtype: object>"
      ]
     },
     "execution_count": 207,
     "metadata": {},
     "output_type": "execute_result"
    }
   ],
   "source": [
    "combined_df[\"CityName\"].unique"
   ]
  },
  {
   "cell_type": "code",
   "execution_count": 208,
   "id": "e15e926f",
   "metadata": {},
   "outputs": [
    {
     "data": {
      "text/plain": [
       "<bound method Series.unique of 0                      -\n",
       "1         Central Africa\n",
       "2            East Africa\n",
       "3           North Africa\n",
       "4        Southern Africa\n",
       "              ...       \n",
       "52925            Unknown\n",
       "52926            Unknown\n",
       "52927            Unknown\n",
       "52928            Unknown\n",
       "52929            Unknown\n",
       "Name: Region, Length: 52930, dtype: object>"
      ]
     },
     "execution_count": 208,
     "metadata": {},
     "output_type": "execute_result"
    }
   ],
   "source": [
    "combined_df[\"Region\"].unique"
   ]
  },
  {
   "cell_type": "code",
   "execution_count": null,
   "id": "2b6844f6",
   "metadata": {},
   "outputs": [],
   "source": []
  }
 ],
 "metadata": {
  "kernelspec": {
   "display_name": "Python 3",
   "language": "python",
   "name": "python3"
  },
  "language_info": {
   "codemirror_mode": {
    "name": "ipython",
    "version": 3
   },
   "file_extension": ".py",
   "mimetype": "text/x-python",
   "name": "python",
   "nbconvert_exporter": "python",
   "pygments_lexer": "ipython3",
   "version": "3.13.2"
  }
 },
 "nbformat": 4,
 "nbformat_minor": 5
}
